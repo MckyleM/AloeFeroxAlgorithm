{
 "cells": [
  {
   "cell_type": "markdown",
   "metadata": {},
   "source": [
    "# __Aloe Ferox Machine Learning Algorithm__"
   ]
  },
  {
   "cell_type": "markdown",
   "metadata": {},
   "source": [
    "__Importing tools and dictionaries__"
   ]
  },
  {
   "cell_type": "code",
   "execution_count": 1,
   "metadata": {},
   "outputs": [],
   "source": [
    "import numpy as np \n",
    "import matplotlib.pyplot as plt \n",
    "\n",
    "import pandas as pd \n",
    "from pandas import DataFrame, Series\n",
    "import seaborn as sns\n",
    "import urllib.request\n",
    "from PIL import Image\n",
    "import concurrent.futures\n",
    "from collections import OrderedDict\n",
    "import torch\n",
    "import torch.utils\n",
    "import torch.nn as nn\n",
    "import torch.nn.functional as F \n",
    "import torch.optim as optim\n",
    "from torch.utils.data import Dataset\n",
    "import torchvision\n",
    "from torchvision import models\n",
    "import torchvision.transforms as transforms\n",
    "import tensorflow as tf\n",
    "import cv2\n",
    "import requests\n",
    "from io import BytesIO\n",
    "from torch.utils.data import Dataset, DataLoader\n",
    "\n",
    "import glob\n",
    "import os\n"
   ]
  },
  {
   "cell_type": "markdown",
   "metadata": {},
   "source": [
    "__Importing data from Excell spreadsheet__"
   ]
  },
  {
   "cell_type": "code",
   "execution_count": 2,
   "metadata": {},
   "outputs": [],
   "source": [
    "Base_Aloe_Ferox_Dataset = pd.ExcelFile('BaseSet.xlsx')"
   ]
  },
  {
   "cell_type": "markdown",
   "metadata": {},
   "source": [
    "__Splitting of the datasheets into seperate data frames__"
   ]
  },
  {
   "cell_type": "code",
   "execution_count": 3,
   "metadata": {},
   "outputs": [
    {
     "data": {
      "text/html": [
       "<div>\n",
       "<style scoped>\n",
       "    .dataframe tbody tr th:only-of-type {\n",
       "        vertical-align: middle;\n",
       "    }\n",
       "\n",
       "    .dataframe tbody tr th {\n",
       "        vertical-align: top;\n",
       "    }\n",
       "\n",
       "    .dataframe thead th {\n",
       "        text-align: right;\n",
       "    }\n",
       "</style>\n",
       "<table border=\"1\" class=\"dataframe\">\n",
       "  <thead>\n",
       "    <tr style=\"text-align: right;\">\n",
       "      <th></th>\n",
       "      <th>id</th>\n",
       "      <th>observed_on_string</th>\n",
       "      <th>observed_on</th>\n",
       "      <th>time_observed_at</th>\n",
       "      <th>time_zone</th>\n",
       "      <th>user_id</th>\n",
       "      <th>user_login</th>\n",
       "      <th>user_name</th>\n",
       "      <th>created_at</th>\n",
       "      <th>updated_at</th>\n",
       "      <th>...</th>\n",
       "      <th>species_guess</th>\n",
       "      <th>scientific_name</th>\n",
       "      <th>common_name</th>\n",
       "      <th>iconic_taxon_name</th>\n",
       "      <th>taxon_id</th>\n",
       "      <th>taxon_family_name</th>\n",
       "      <th>taxon_genus_name</th>\n",
       "      <th>taxon_species_name</th>\n",
       "      <th>taxon_subspecies_name</th>\n",
       "      <th>field:phenology (foa)</th>\n",
       "    </tr>\n",
       "  </thead>\n",
       "  <tbody>\n",
       "    <tr>\n",
       "      <th>0</th>\n",
       "      <td>9865839</td>\n",
       "      <td>2017-06-24 3:22:22 PM SAST</td>\n",
       "      <td>2017-06-24</td>\n",
       "      <td>2017-06-24 13:22:22 UTC</td>\n",
       "      <td>Africa/Johannesburg</td>\n",
       "      <td>764003</td>\n",
       "      <td>gabriel_15</td>\n",
       "      <td>NaN</td>\n",
       "      <td>2018-02-15 07:32:45 UTC</td>\n",
       "      <td>2018-06-07 16:08:59 UTC</td>\n",
       "      <td>...</td>\n",
       "      <td>Cape aloe</td>\n",
       "      <td>Aloe ferox</td>\n",
       "      <td>Cape Aloe</td>\n",
       "      <td>Plantae</td>\n",
       "      <td>124412</td>\n",
       "      <td>Asphodelaceae</td>\n",
       "      <td>Aloe</td>\n",
       "      <td>Aloe ferox</td>\n",
       "      <td>NaN</td>\n",
       "      <td>NaN</td>\n",
       "    </tr>\n",
       "    <tr>\n",
       "      <th>1</th>\n",
       "      <td>10787160</td>\n",
       "      <td>2011-07-15 00:00:00</td>\n",
       "      <td>2011-07-15</td>\n",
       "      <td>NaN</td>\n",
       "      <td>Africa/Johannesburg</td>\n",
       "      <td>660426</td>\n",
       "      <td>outramps-tanniedi</td>\n",
       "      <td>Di Turner</td>\n",
       "      <td>2011-07-18 12:28:39 UTC</td>\n",
       "      <td>2018-06-07 16:14:22 UTC</td>\n",
       "      <td>...</td>\n",
       "      <td>Cape aloe</td>\n",
       "      <td>Aloe ferox</td>\n",
       "      <td>Cape Aloe</td>\n",
       "      <td>Plantae</td>\n",
       "      <td>124412</td>\n",
       "      <td>Asphodelaceae</td>\n",
       "      <td>Aloe</td>\n",
       "      <td>Aloe ferox</td>\n",
       "      <td>NaN</td>\n",
       "      <td>NaN</td>\n",
       "    </tr>\n",
       "    <tr>\n",
       "      <th>2</th>\n",
       "      <td>10787636</td>\n",
       "      <td>2011-07-29 00:00:00</td>\n",
       "      <td>2011-07-29</td>\n",
       "      <td>NaN</td>\n",
       "      <td>Africa/Johannesburg</td>\n",
       "      <td>660426</td>\n",
       "      <td>outramps-tanniedi</td>\n",
       "      <td>Di Turner</td>\n",
       "      <td>2011-08-02 01:09:32 UTC</td>\n",
       "      <td>2018-06-07 16:14:07 UTC</td>\n",
       "      <td>...</td>\n",
       "      <td>Cape aloe</td>\n",
       "      <td>Aloe ferox</td>\n",
       "      <td>Cape Aloe</td>\n",
       "      <td>Plantae</td>\n",
       "      <td>124412</td>\n",
       "      <td>Asphodelaceae</td>\n",
       "      <td>Aloe</td>\n",
       "      <td>Aloe ferox</td>\n",
       "      <td>NaN</td>\n",
       "      <td>NaN</td>\n",
       "    </tr>\n",
       "    <tr>\n",
       "      <th>3</th>\n",
       "      <td>10790153</td>\n",
       "      <td>2011-08-14 00:00:00</td>\n",
       "      <td>2011-08-14</td>\n",
       "      <td>NaN</td>\n",
       "      <td>Africa/Johannesburg</td>\n",
       "      <td>7682</td>\n",
       "      <td>nicky</td>\n",
       "      <td>Nicola van Berkel</td>\n",
       "      <td>2011-09-01 07:26:07 UTC</td>\n",
       "      <td>2018-06-07 16:13:47 UTC</td>\n",
       "      <td>...</td>\n",
       "      <td>Cape aloe</td>\n",
       "      <td>Aloe ferox</td>\n",
       "      <td>Cape Aloe</td>\n",
       "      <td>Plantae</td>\n",
       "      <td>124412</td>\n",
       "      <td>Asphodelaceae</td>\n",
       "      <td>Aloe</td>\n",
       "      <td>Aloe ferox</td>\n",
       "      <td>NaN</td>\n",
       "      <td>NaN</td>\n",
       "    </tr>\n",
       "    <tr>\n",
       "      <th>4</th>\n",
       "      <td>10799481</td>\n",
       "      <td>2012-05-26 00:00:00</td>\n",
       "      <td>2012-05-26</td>\n",
       "      <td>NaN</td>\n",
       "      <td>Africa/Johannesburg</td>\n",
       "      <td>660426</td>\n",
       "      <td>outramps-tanniedi</td>\n",
       "      <td>Di Turner</td>\n",
       "      <td>2012-06-15 01:15:18 UTC</td>\n",
       "      <td>2018-08-26 12:02:52 UTC</td>\n",
       "      <td>...</td>\n",
       "      <td>Cape aloe</td>\n",
       "      <td>Aloe ferox</td>\n",
       "      <td>Cape Aloe</td>\n",
       "      <td>Plantae</td>\n",
       "      <td>124412</td>\n",
       "      <td>Asphodelaceae</td>\n",
       "      <td>Aloe</td>\n",
       "      <td>Aloe ferox</td>\n",
       "      <td>NaN</td>\n",
       "      <td>NaN</td>\n",
       "    </tr>\n",
       "  </tbody>\n",
       "</table>\n",
       "<p>5 rows × 50 columns</p>\n",
       "</div>"
      ],
      "text/plain": [
       "         id          observed_on_string observed_on         time_observed_at  \\\n",
       "0   9865839  2017-06-24 3:22:22 PM SAST  2017-06-24  2017-06-24 13:22:22 UTC   \n",
       "1  10787160         2011-07-15 00:00:00  2011-07-15                      NaN   \n",
       "2  10787636         2011-07-29 00:00:00  2011-07-29                      NaN   \n",
       "3  10790153         2011-08-14 00:00:00  2011-08-14                      NaN   \n",
       "4  10799481         2012-05-26 00:00:00  2012-05-26                      NaN   \n",
       "\n",
       "             time_zone  user_id         user_login          user_name  \\\n",
       "0  Africa/Johannesburg   764003         gabriel_15                NaN   \n",
       "1  Africa/Johannesburg   660426  outramps-tanniedi          Di Turner   \n",
       "2  Africa/Johannesburg   660426  outramps-tanniedi          Di Turner   \n",
       "3  Africa/Johannesburg     7682              nicky  Nicola van Berkel   \n",
       "4  Africa/Johannesburg   660426  outramps-tanniedi          Di Turner   \n",
       "\n",
       "                created_at               updated_at  ... species_guess  \\\n",
       "0  2018-02-15 07:32:45 UTC  2018-06-07 16:08:59 UTC  ...     Cape aloe   \n",
       "1  2011-07-18 12:28:39 UTC  2018-06-07 16:14:22 UTC  ...     Cape aloe   \n",
       "2  2011-08-02 01:09:32 UTC  2018-06-07 16:14:07 UTC  ...     Cape aloe   \n",
       "3  2011-09-01 07:26:07 UTC  2018-06-07 16:13:47 UTC  ...     Cape aloe   \n",
       "4  2012-06-15 01:15:18 UTC  2018-08-26 12:02:52 UTC  ...     Cape aloe   \n",
       "\n",
       "  scientific_name common_name iconic_taxon_name  taxon_id taxon_family_name  \\\n",
       "0      Aloe ferox   Cape Aloe           Plantae    124412     Asphodelaceae   \n",
       "1      Aloe ferox   Cape Aloe           Plantae    124412     Asphodelaceae   \n",
       "2      Aloe ferox   Cape Aloe           Plantae    124412     Asphodelaceae   \n",
       "3      Aloe ferox   Cape Aloe           Plantae    124412     Asphodelaceae   \n",
       "4      Aloe ferox   Cape Aloe           Plantae    124412     Asphodelaceae   \n",
       "\n",
       "  taxon_genus_name  taxon_species_name  taxon_subspecies_name  \\\n",
       "0             Aloe          Aloe ferox                    NaN   \n",
       "1             Aloe          Aloe ferox                    NaN   \n",
       "2             Aloe          Aloe ferox                    NaN   \n",
       "3             Aloe          Aloe ferox                    NaN   \n",
       "4             Aloe          Aloe ferox                    NaN   \n",
       "\n",
       "   field:phenology (foa)  \n",
       "0                    NaN  \n",
       "1                    NaN  \n",
       "2                    NaN  \n",
       "3                    NaN  \n",
       "4                    NaN  \n",
       "\n",
       "[5 rows x 50 columns]"
      ]
     },
     "execution_count": 3,
     "metadata": {},
     "output_type": "execute_result"
    }
   ],
   "source": [
    "\n",
    "Base_Set = {}\n",
    "for sheet in Base_Aloe_Ferox_Dataset.sheet_names:\n",
    "    df = Base_Aloe_Ferox_Dataset.parse(sheet)\n",
    "    Base_Set[sheet] = df\n",
    "\n",
    "flowers_base = Base_Set[\"FLOWERS\"]\n",
    "buds_base = Base_Set[\"BUDS\"]\n",
    "fruit_base = Base_Set[\"FRUIT\"]\n",
    "No_Evidence_Base = Base_Set[\"No Evidence\"]\n",
    "\n",
    "flowers_base.head()"
   ]
  },
  {
   "cell_type": "code",
   "execution_count": 4,
   "metadata": {},
   "outputs": [
    {
     "data": {
      "text/html": [
       "<div>\n",
       "<style scoped>\n",
       "    .dataframe tbody tr th:only-of-type {\n",
       "        vertical-align: middle;\n",
       "    }\n",
       "\n",
       "    .dataframe tbody tr th {\n",
       "        vertical-align: top;\n",
       "    }\n",
       "\n",
       "    .dataframe thead th {\n",
       "        text-align: right;\n",
       "    }\n",
       "</style>\n",
       "<table border=\"1\" class=\"dataframe\">\n",
       "  <thead>\n",
       "    <tr style=\"text-align: right;\">\n",
       "      <th></th>\n",
       "      <th>id</th>\n",
       "      <th>observed_on_string</th>\n",
       "      <th>observed_on</th>\n",
       "      <th>time_observed_at</th>\n",
       "      <th>time_zone</th>\n",
       "      <th>user_id</th>\n",
       "      <th>user_login</th>\n",
       "      <th>user_name</th>\n",
       "      <th>created_at</th>\n",
       "      <th>updated_at</th>\n",
       "      <th>...</th>\n",
       "      <th>scientific_name</th>\n",
       "      <th>common_name</th>\n",
       "      <th>iconic_taxon_name</th>\n",
       "      <th>taxon_id</th>\n",
       "      <th>taxon_family_name</th>\n",
       "      <th>taxon_genus_name</th>\n",
       "      <th>taxon_species_name</th>\n",
       "      <th>taxon_subspecies_name</th>\n",
       "      <th>taxon_variety_name</th>\n",
       "      <th>field:phenology (foa)</th>\n",
       "    </tr>\n",
       "  </thead>\n",
       "  <tbody>\n",
       "    <tr>\n",
       "      <th>0</th>\n",
       "      <td>8154638</td>\n",
       "      <td>2017/04/30 7:56 AM EDT</td>\n",
       "      <td>2017-04-30</td>\n",
       "      <td>2017-04-30 11:56:00 UTC</td>\n",
       "      <td>Eastern Time (US &amp; Canada)</td>\n",
       "      <td>520</td>\n",
       "      <td>johnnybirder</td>\n",
       "      <td>Johnny Wilson</td>\n",
       "      <td>2017-09-28 16:43:38 UTC</td>\n",
       "      <td>2018-06-07 16:12:02 UTC</td>\n",
       "      <td>...</td>\n",
       "      <td>Aloe ferox</td>\n",
       "      <td>Cape Aloe</td>\n",
       "      <td>Plantae</td>\n",
       "      <td>124412</td>\n",
       "      <td>Asphodelaceae</td>\n",
       "      <td>Aloe</td>\n",
       "      <td>Aloe ferox</td>\n",
       "      <td>NaN</td>\n",
       "      <td>NaN</td>\n",
       "      <td>NaN</td>\n",
       "    </tr>\n",
       "    <tr>\n",
       "      <th>1</th>\n",
       "      <td>9272972</td>\n",
       "      <td>2007/07/01 9:41 AM BST</td>\n",
       "      <td>2007-07-01</td>\n",
       "      <td>2007-07-01 08:41:00 UTC</td>\n",
       "      <td>Europe/London</td>\n",
       "      <td>493784</td>\n",
       "      <td>mark185</td>\n",
       "      <td>Mark Wright</td>\n",
       "      <td>2017-12-27 13:16:33 UTC</td>\n",
       "      <td>2018-06-07 16:09:12 UTC</td>\n",
       "      <td>...</td>\n",
       "      <td>Aloe ferox</td>\n",
       "      <td>Cape Aloe</td>\n",
       "      <td>Plantae</td>\n",
       "      <td>124412</td>\n",
       "      <td>Asphodelaceae</td>\n",
       "      <td>Aloe</td>\n",
       "      <td>Aloe ferox</td>\n",
       "      <td>NaN</td>\n",
       "      <td>NaN</td>\n",
       "      <td>NaN</td>\n",
       "    </tr>\n",
       "    <tr>\n",
       "      <th>2</th>\n",
       "      <td>9865839</td>\n",
       "      <td>2017-06-24 3:22:22 PM SAST</td>\n",
       "      <td>2017-06-24</td>\n",
       "      <td>2017-06-24 13:22:22 UTC</td>\n",
       "      <td>Africa/Johannesburg</td>\n",
       "      <td>764003</td>\n",
       "      <td>gabriel_15</td>\n",
       "      <td>NaN</td>\n",
       "      <td>2018-02-15 07:32:45 UTC</td>\n",
       "      <td>2018-06-07 16:08:59 UTC</td>\n",
       "      <td>...</td>\n",
       "      <td>Aloe ferox</td>\n",
       "      <td>Cape Aloe</td>\n",
       "      <td>Plantae</td>\n",
       "      <td>124412</td>\n",
       "      <td>Asphodelaceae</td>\n",
       "      <td>Aloe</td>\n",
       "      <td>Aloe ferox</td>\n",
       "      <td>NaN</td>\n",
       "      <td>NaN</td>\n",
       "      <td>NaN</td>\n",
       "    </tr>\n",
       "    <tr>\n",
       "      <th>3</th>\n",
       "      <td>10787160</td>\n",
       "      <td>2011-07-15 00:00:00</td>\n",
       "      <td>2011-07-15</td>\n",
       "      <td>NaN</td>\n",
       "      <td>Africa/Johannesburg</td>\n",
       "      <td>660426</td>\n",
       "      <td>outramps-tanniedi</td>\n",
       "      <td>Di Turner</td>\n",
       "      <td>2011-07-18 12:28:39 UTC</td>\n",
       "      <td>2018-06-07 16:14:22 UTC</td>\n",
       "      <td>...</td>\n",
       "      <td>Aloe ferox</td>\n",
       "      <td>Cape Aloe</td>\n",
       "      <td>Plantae</td>\n",
       "      <td>124412</td>\n",
       "      <td>Asphodelaceae</td>\n",
       "      <td>Aloe</td>\n",
       "      <td>Aloe ferox</td>\n",
       "      <td>NaN</td>\n",
       "      <td>NaN</td>\n",
       "      <td>NaN</td>\n",
       "    </tr>\n",
       "    <tr>\n",
       "      <th>4</th>\n",
       "      <td>10787636</td>\n",
       "      <td>2011-07-29 00:00:00</td>\n",
       "      <td>2011-07-29</td>\n",
       "      <td>NaN</td>\n",
       "      <td>Africa/Johannesburg</td>\n",
       "      <td>660426</td>\n",
       "      <td>outramps-tanniedi</td>\n",
       "      <td>Di Turner</td>\n",
       "      <td>2011-08-02 01:09:32 UTC</td>\n",
       "      <td>2018-06-07 16:14:07 UTC</td>\n",
       "      <td>...</td>\n",
       "      <td>Aloe ferox</td>\n",
       "      <td>Cape Aloe</td>\n",
       "      <td>Plantae</td>\n",
       "      <td>124412</td>\n",
       "      <td>Asphodelaceae</td>\n",
       "      <td>Aloe</td>\n",
       "      <td>Aloe ferox</td>\n",
       "      <td>NaN</td>\n",
       "      <td>NaN</td>\n",
       "      <td>NaN</td>\n",
       "    </tr>\n",
       "  </tbody>\n",
       "</table>\n",
       "<p>5 rows × 51 columns</p>\n",
       "</div>"
      ],
      "text/plain": [
       "         id          observed_on_string observed_on         time_observed_at  \\\n",
       "0   8154638      2017/04/30 7:56 AM EDT  2017-04-30  2017-04-30 11:56:00 UTC   \n",
       "1   9272972      2007/07/01 9:41 AM BST  2007-07-01  2007-07-01 08:41:00 UTC   \n",
       "2   9865839  2017-06-24 3:22:22 PM SAST  2017-06-24  2017-06-24 13:22:22 UTC   \n",
       "3  10787160         2011-07-15 00:00:00  2011-07-15                      NaN   \n",
       "4  10787636         2011-07-29 00:00:00  2011-07-29                      NaN   \n",
       "\n",
       "                    time_zone  user_id         user_login      user_name  \\\n",
       "0  Eastern Time (US & Canada)      520       johnnybirder  Johnny Wilson   \n",
       "1               Europe/London   493784            mark185    Mark Wright   \n",
       "2         Africa/Johannesburg   764003         gabriel_15            NaN   \n",
       "3         Africa/Johannesburg   660426  outramps-tanniedi      Di Turner   \n",
       "4         Africa/Johannesburg   660426  outramps-tanniedi      Di Turner   \n",
       "\n",
       "                created_at               updated_at  ... scientific_name  \\\n",
       "0  2017-09-28 16:43:38 UTC  2018-06-07 16:12:02 UTC  ...      Aloe ferox   \n",
       "1  2017-12-27 13:16:33 UTC  2018-06-07 16:09:12 UTC  ...      Aloe ferox   \n",
       "2  2018-02-15 07:32:45 UTC  2018-06-07 16:08:59 UTC  ...      Aloe ferox   \n",
       "3  2011-07-18 12:28:39 UTC  2018-06-07 16:14:22 UTC  ...      Aloe ferox   \n",
       "4  2011-08-02 01:09:32 UTC  2018-06-07 16:14:07 UTC  ...      Aloe ferox   \n",
       "\n",
       "  common_name iconic_taxon_name taxon_id  taxon_family_name taxon_genus_name  \\\n",
       "0   Cape Aloe           Plantae   124412      Asphodelaceae             Aloe   \n",
       "1   Cape Aloe           Plantae   124412      Asphodelaceae             Aloe   \n",
       "2   Cape Aloe           Plantae   124412      Asphodelaceae             Aloe   \n",
       "3   Cape Aloe           Plantae   124412      Asphodelaceae             Aloe   \n",
       "4   Cape Aloe           Plantae   124412      Asphodelaceae             Aloe   \n",
       "\n",
       "  taxon_species_name  taxon_subspecies_name  taxon_variety_name  \\\n",
       "0         Aloe ferox                    NaN                 NaN   \n",
       "1         Aloe ferox                    NaN                 NaN   \n",
       "2         Aloe ferox                    NaN                 NaN   \n",
       "3         Aloe ferox                    NaN                 NaN   \n",
       "4         Aloe ferox                    NaN                 NaN   \n",
       "\n",
       "   field:phenology (foa)  \n",
       "0                    NaN  \n",
       "1                    NaN  \n",
       "2                    NaN  \n",
       "3                    NaN  \n",
       "4                    NaN  \n",
       "\n",
       "[5 rows x 51 columns]"
      ]
     },
     "execution_count": 4,
     "metadata": {},
     "output_type": "execute_result"
    }
   ],
   "source": [
    "buds_base.head()"
   ]
  },
  {
   "cell_type": "code",
   "execution_count": 5,
   "metadata": {},
   "outputs": [
    {
     "data": {
      "text/html": [
       "<div>\n",
       "<style scoped>\n",
       "    .dataframe tbody tr th:only-of-type {\n",
       "        vertical-align: middle;\n",
       "    }\n",
       "\n",
       "    .dataframe tbody tr th {\n",
       "        vertical-align: top;\n",
       "    }\n",
       "\n",
       "    .dataframe thead th {\n",
       "        text-align: right;\n",
       "    }\n",
       "</style>\n",
       "<table border=\"1\" class=\"dataframe\">\n",
       "  <thead>\n",
       "    <tr style=\"text-align: right;\">\n",
       "      <th></th>\n",
       "      <th>id</th>\n",
       "      <th>observed_on_string</th>\n",
       "      <th>observed_on</th>\n",
       "      <th>time_observed_at</th>\n",
       "      <th>time_zone</th>\n",
       "      <th>user_id</th>\n",
       "      <th>user_login</th>\n",
       "      <th>user_name</th>\n",
       "      <th>created_at</th>\n",
       "      <th>updated_at</th>\n",
       "      <th>...</th>\n",
       "      <th>scientific_name</th>\n",
       "      <th>common_name</th>\n",
       "      <th>iconic_taxon_name</th>\n",
       "      <th>taxon_id</th>\n",
       "      <th>taxon_family_name</th>\n",
       "      <th>taxon_genus_name</th>\n",
       "      <th>taxon_species_name</th>\n",
       "      <th>taxon_subspecies_name</th>\n",
       "      <th>taxon_variety_name</th>\n",
       "      <th>field:phenology (foa)</th>\n",
       "    </tr>\n",
       "  </thead>\n",
       "  <tbody>\n",
       "    <tr>\n",
       "      <th>0</th>\n",
       "      <td>9034202</td>\n",
       "      <td>2017/11/24 2:54 PM SAST</td>\n",
       "      <td>2017-11-24</td>\n",
       "      <td>2017-11-24 12:54:00 UTC</td>\n",
       "      <td>Africa/Johannesburg</td>\n",
       "      <td>389997</td>\n",
       "      <td>shauns</td>\n",
       "      <td>Shaun Swanepoel</td>\n",
       "      <td>2017-12-03 21:28:02 UTC</td>\n",
       "      <td>2018-08-26 11:58:10 UTC</td>\n",
       "      <td>...</td>\n",
       "      <td>Aloe ferox</td>\n",
       "      <td>Cape Aloe</td>\n",
       "      <td>Plantae</td>\n",
       "      <td>124412</td>\n",
       "      <td>Asphodelaceae</td>\n",
       "      <td>Aloe</td>\n",
       "      <td>Aloe ferox</td>\n",
       "      <td>NaN</td>\n",
       "      <td>NaN</td>\n",
       "      <td>NaN</td>\n",
       "    </tr>\n",
       "    <tr>\n",
       "      <th>1</th>\n",
       "      <td>10832079</td>\n",
       "      <td>2012-10-12 00:00:00</td>\n",
       "      <td>2012-10-12</td>\n",
       "      <td>NaN</td>\n",
       "      <td>Africa/Johannesburg</td>\n",
       "      <td>7682</td>\n",
       "      <td>nicky</td>\n",
       "      <td>Nicola van Berkel</td>\n",
       "      <td>2012-11-30 08:16:37 UTC</td>\n",
       "      <td>2018-11-19 09:09:18 UTC</td>\n",
       "      <td>...</td>\n",
       "      <td>Aloe ferox</td>\n",
       "      <td>Cape Aloe</td>\n",
       "      <td>Plantae</td>\n",
       "      <td>124412</td>\n",
       "      <td>Asphodelaceae</td>\n",
       "      <td>Aloe</td>\n",
       "      <td>Aloe ferox</td>\n",
       "      <td>NaN</td>\n",
       "      <td>NaN</td>\n",
       "      <td>NaN</td>\n",
       "    </tr>\n",
       "    <tr>\n",
       "      <th>2</th>\n",
       "      <td>10871050</td>\n",
       "      <td>2013-07-17 00:00:00</td>\n",
       "      <td>2013-07-17</td>\n",
       "      <td>NaN</td>\n",
       "      <td>Africa/Johannesburg</td>\n",
       "      <td>660426</td>\n",
       "      <td>outramps-tanniedi</td>\n",
       "      <td>Di Turner</td>\n",
       "      <td>2013-07-30 01:59:08 UTC</td>\n",
       "      <td>2018-11-19 09:09:51 UTC</td>\n",
       "      <td>...</td>\n",
       "      <td>Aloe ferox</td>\n",
       "      <td>Cape Aloe</td>\n",
       "      <td>Plantae</td>\n",
       "      <td>124412</td>\n",
       "      <td>Asphodelaceae</td>\n",
       "      <td>Aloe</td>\n",
       "      <td>Aloe ferox</td>\n",
       "      <td>NaN</td>\n",
       "      <td>NaN</td>\n",
       "      <td>NaN</td>\n",
       "    </tr>\n",
       "    <tr>\n",
       "      <th>3</th>\n",
       "      <td>10875477</td>\n",
       "      <td>2013-09-25 00:00:00</td>\n",
       "      <td>2013-09-25</td>\n",
       "      <td>NaN</td>\n",
       "      <td>Africa/Johannesburg</td>\n",
       "      <td>7682</td>\n",
       "      <td>nicky</td>\n",
       "      <td>Nicola van Berkel</td>\n",
       "      <td>2013-10-17 17:28:07 UTC</td>\n",
       "      <td>2018-11-19 09:08:12 UTC</td>\n",
       "      <td>...</td>\n",
       "      <td>Aloe ferox</td>\n",
       "      <td>Cape Aloe</td>\n",
       "      <td>Plantae</td>\n",
       "      <td>124412</td>\n",
       "      <td>Asphodelaceae</td>\n",
       "      <td>Aloe</td>\n",
       "      <td>Aloe ferox</td>\n",
       "      <td>NaN</td>\n",
       "      <td>NaN</td>\n",
       "      <td>NaN</td>\n",
       "    </tr>\n",
       "    <tr>\n",
       "      <th>4</th>\n",
       "      <td>10962203</td>\n",
       "      <td>2013-09-12 00:00:00</td>\n",
       "      <td>2013-09-12</td>\n",
       "      <td>NaN</td>\n",
       "      <td>Africa/Johannesburg</td>\n",
       "      <td>383144</td>\n",
       "      <td>tonyrebelo</td>\n",
       "      <td>Tony Rebelo</td>\n",
       "      <td>2014-05-03 23:49:34 UTC</td>\n",
       "      <td>2023-10-13 09:04:15 UTC</td>\n",
       "      <td>...</td>\n",
       "      <td>Aloe ferox</td>\n",
       "      <td>Cape Aloe</td>\n",
       "      <td>Plantae</td>\n",
       "      <td>124412</td>\n",
       "      <td>Asphodelaceae</td>\n",
       "      <td>Aloe</td>\n",
       "      <td>Aloe ferox</td>\n",
       "      <td>NaN</td>\n",
       "      <td>NaN</td>\n",
       "      <td>NaN</td>\n",
       "    </tr>\n",
       "  </tbody>\n",
       "</table>\n",
       "<p>5 rows × 51 columns</p>\n",
       "</div>"
      ],
      "text/plain": [
       "         id       observed_on_string observed_on         time_observed_at  \\\n",
       "0   9034202  2017/11/24 2:54 PM SAST  2017-11-24  2017-11-24 12:54:00 UTC   \n",
       "1  10832079      2012-10-12 00:00:00  2012-10-12                      NaN   \n",
       "2  10871050      2013-07-17 00:00:00  2013-07-17                      NaN   \n",
       "3  10875477      2013-09-25 00:00:00  2013-09-25                      NaN   \n",
       "4  10962203      2013-09-12 00:00:00  2013-09-12                      NaN   \n",
       "\n",
       "             time_zone  user_id         user_login          user_name  \\\n",
       "0  Africa/Johannesburg   389997             shauns    Shaun Swanepoel   \n",
       "1  Africa/Johannesburg     7682              nicky  Nicola van Berkel   \n",
       "2  Africa/Johannesburg   660426  outramps-tanniedi          Di Turner   \n",
       "3  Africa/Johannesburg     7682              nicky  Nicola van Berkel   \n",
       "4  Africa/Johannesburg   383144         tonyrebelo        Tony Rebelo   \n",
       "\n",
       "                created_at               updated_at  ... scientific_name  \\\n",
       "0  2017-12-03 21:28:02 UTC  2018-08-26 11:58:10 UTC  ...      Aloe ferox   \n",
       "1  2012-11-30 08:16:37 UTC  2018-11-19 09:09:18 UTC  ...      Aloe ferox   \n",
       "2  2013-07-30 01:59:08 UTC  2018-11-19 09:09:51 UTC  ...      Aloe ferox   \n",
       "3  2013-10-17 17:28:07 UTC  2018-11-19 09:08:12 UTC  ...      Aloe ferox   \n",
       "4  2014-05-03 23:49:34 UTC  2023-10-13 09:04:15 UTC  ...      Aloe ferox   \n",
       "\n",
       "  common_name iconic_taxon_name taxon_id  taxon_family_name taxon_genus_name  \\\n",
       "0   Cape Aloe           Plantae   124412      Asphodelaceae             Aloe   \n",
       "1   Cape Aloe           Plantae   124412      Asphodelaceae             Aloe   \n",
       "2   Cape Aloe           Plantae   124412      Asphodelaceae             Aloe   \n",
       "3   Cape Aloe           Plantae   124412      Asphodelaceae             Aloe   \n",
       "4   Cape Aloe           Plantae   124412      Asphodelaceae             Aloe   \n",
       "\n",
       "  taxon_species_name  taxon_subspecies_name  taxon_variety_name  \\\n",
       "0         Aloe ferox                    NaN                 NaN   \n",
       "1         Aloe ferox                    NaN                 NaN   \n",
       "2         Aloe ferox                    NaN                 NaN   \n",
       "3         Aloe ferox                    NaN                 NaN   \n",
       "4         Aloe ferox                    NaN                 NaN   \n",
       "\n",
       "   field:phenology (foa)  \n",
       "0                    NaN  \n",
       "1                    NaN  \n",
       "2                    NaN  \n",
       "3                    NaN  \n",
       "4                    NaN  \n",
       "\n",
       "[5 rows x 51 columns]"
      ]
     },
     "execution_count": 5,
     "metadata": {},
     "output_type": "execute_result"
    }
   ],
   "source": [
    "fruit_base.head()"
   ]
  },
  {
   "cell_type": "code",
   "execution_count": 6,
   "metadata": {},
   "outputs": [
    {
     "data": {
      "text/html": [
       "<div>\n",
       "<style scoped>\n",
       "    .dataframe tbody tr th:only-of-type {\n",
       "        vertical-align: middle;\n",
       "    }\n",
       "\n",
       "    .dataframe tbody tr th {\n",
       "        vertical-align: top;\n",
       "    }\n",
       "\n",
       "    .dataframe thead th {\n",
       "        text-align: right;\n",
       "    }\n",
       "</style>\n",
       "<table border=\"1\" class=\"dataframe\">\n",
       "  <thead>\n",
       "    <tr style=\"text-align: right;\">\n",
       "      <th></th>\n",
       "      <th>id</th>\n",
       "      <th>observed_on_string</th>\n",
       "      <th>observed_on</th>\n",
       "      <th>time_observed_at</th>\n",
       "      <th>time_zone</th>\n",
       "      <th>user_id</th>\n",
       "      <th>user_login</th>\n",
       "      <th>user_name</th>\n",
       "      <th>created_at</th>\n",
       "      <th>updated_at</th>\n",
       "      <th>...</th>\n",
       "      <th>scientific_name</th>\n",
       "      <th>common_name</th>\n",
       "      <th>iconic_taxon_name</th>\n",
       "      <th>taxon_id</th>\n",
       "      <th>taxon_family_name</th>\n",
       "      <th>taxon_genus_name</th>\n",
       "      <th>taxon_species_name</th>\n",
       "      <th>taxon_subspecies_name</th>\n",
       "      <th>taxon_variety_name</th>\n",
       "      <th>field:phenology (foa)</th>\n",
       "    </tr>\n",
       "  </thead>\n",
       "  <tbody>\n",
       "    <tr>\n",
       "      <th>0</th>\n",
       "      <td>11111885</td>\n",
       "      <td>2015-05-06 00:00:00</td>\n",
       "      <td>2015-05-06</td>\n",
       "      <td>NaN</td>\n",
       "      <td>Africa/Johannesburg</td>\n",
       "      <td>660426</td>\n",
       "      <td>outramps-tanniedi</td>\n",
       "      <td>Di Turner</td>\n",
       "      <td>2015-05-17 11:20:21 UTC</td>\n",
       "      <td>2023-05-26 11:54:43 UTC</td>\n",
       "      <td>...</td>\n",
       "      <td>Aloe ferox</td>\n",
       "      <td>Cape Aloe</td>\n",
       "      <td>Plantae</td>\n",
       "      <td>124412</td>\n",
       "      <td>Asphodelaceae</td>\n",
       "      <td>Aloe</td>\n",
       "      <td>Aloe ferox</td>\n",
       "      <td>NaN</td>\n",
       "      <td>NaN</td>\n",
       "      <td>NaN</td>\n",
       "    </tr>\n",
       "    <tr>\n",
       "      <th>1</th>\n",
       "      <td>11197854</td>\n",
       "      <td>2015-11-20 00:00:00</td>\n",
       "      <td>2015-11-20</td>\n",
       "      <td>NaN</td>\n",
       "      <td>Pretoria</td>\n",
       "      <td>711873</td>\n",
       "      <td>benjamin_walton</td>\n",
       "      <td>Benjamin Walton</td>\n",
       "      <td>2016-01-27 11:54:52 UTC</td>\n",
       "      <td>2024-05-27 09:40:27 UTC</td>\n",
       "      <td>...</td>\n",
       "      <td>Aloe ferox</td>\n",
       "      <td>Cape Aloe</td>\n",
       "      <td>Plantae</td>\n",
       "      <td>124412</td>\n",
       "      <td>Asphodelaceae</td>\n",
       "      <td>Aloe</td>\n",
       "      <td>Aloe ferox</td>\n",
       "      <td>NaN</td>\n",
       "      <td>NaN</td>\n",
       "      <td>NaN</td>\n",
       "    </tr>\n",
       "    <tr>\n",
       "      <th>2</th>\n",
       "      <td>11245126</td>\n",
       "      <td>2017-01-17 00:00:00</td>\n",
       "      <td>2017-01-17</td>\n",
       "      <td>NaN</td>\n",
       "      <td>Africa/Johannesburg</td>\n",
       "      <td>664422</td>\n",
       "      <td>lizegreenieza</td>\n",
       "      <td>Lize van der Merwe</td>\n",
       "      <td>2017-06-12 15:59:45 UTC</td>\n",
       "      <td>2023-09-06 10:04:38 UTC</td>\n",
       "      <td>...</td>\n",
       "      <td>Aloe ferox</td>\n",
       "      <td>Cape Aloe</td>\n",
       "      <td>Plantae</td>\n",
       "      <td>124412</td>\n",
       "      <td>Asphodelaceae</td>\n",
       "      <td>Aloe</td>\n",
       "      <td>Aloe ferox</td>\n",
       "      <td>NaN</td>\n",
       "      <td>NaN</td>\n",
       "      <td>NaN</td>\n",
       "    </tr>\n",
       "    <tr>\n",
       "      <th>3</th>\n",
       "      <td>20173194</td>\n",
       "      <td>2017-06-24 00:00:00</td>\n",
       "      <td>2017-06-24</td>\n",
       "      <td>NaN</td>\n",
       "      <td>Pretoria</td>\n",
       "      <td>389997</td>\n",
       "      <td>shauns</td>\n",
       "      <td>Shaun Swanepoel</td>\n",
       "      <td>2017-08-16 08:05:05 UTC</td>\n",
       "      <td>2023-09-06 10:04:34 UTC</td>\n",
       "      <td>...</td>\n",
       "      <td>Aloe ferox</td>\n",
       "      <td>Cape Aloe</td>\n",
       "      <td>Plantae</td>\n",
       "      <td>124412</td>\n",
       "      <td>Asphodelaceae</td>\n",
       "      <td>Aloe</td>\n",
       "      <td>Aloe ferox</td>\n",
       "      <td>NaN</td>\n",
       "      <td>NaN</td>\n",
       "      <td>NaN</td>\n",
       "    </tr>\n",
       "    <tr>\n",
       "      <th>4</th>\n",
       "      <td>27389400</td>\n",
       "      <td>2015/01/07 4:23 AM PST</td>\n",
       "      <td>2015-01-07</td>\n",
       "      <td>2015-01-07 12:23:00 UTC</td>\n",
       "      <td>Pacific Time (US &amp; Canada)</td>\n",
       "      <td>1831095</td>\n",
       "      <td>douglasriverside</td>\n",
       "      <td>Douglas J. Long</td>\n",
       "      <td>2019-06-21 18:19:54 UTC</td>\n",
       "      <td>2020-10-11 11:04:47 UTC</td>\n",
       "      <td>...</td>\n",
       "      <td>Aloe ferox</td>\n",
       "      <td>Cape Aloe</td>\n",
       "      <td>Plantae</td>\n",
       "      <td>124412</td>\n",
       "      <td>Asphodelaceae</td>\n",
       "      <td>Aloe</td>\n",
       "      <td>Aloe ferox</td>\n",
       "      <td>NaN</td>\n",
       "      <td>NaN</td>\n",
       "      <td>NaN</td>\n",
       "    </tr>\n",
       "  </tbody>\n",
       "</table>\n",
       "<p>5 rows × 51 columns</p>\n",
       "</div>"
      ],
      "text/plain": [
       "         id      observed_on_string observed_on         time_observed_at  \\\n",
       "0  11111885     2015-05-06 00:00:00  2015-05-06                      NaN   \n",
       "1  11197854     2015-11-20 00:00:00  2015-11-20                      NaN   \n",
       "2  11245126     2017-01-17 00:00:00  2017-01-17                      NaN   \n",
       "3  20173194     2017-06-24 00:00:00  2017-06-24                      NaN   \n",
       "4  27389400  2015/01/07 4:23 AM PST  2015-01-07  2015-01-07 12:23:00 UTC   \n",
       "\n",
       "                    time_zone  user_id         user_login           user_name  \\\n",
       "0         Africa/Johannesburg   660426  outramps-tanniedi           Di Turner   \n",
       "1                    Pretoria   711873    benjamin_walton     Benjamin Walton   \n",
       "2         Africa/Johannesburg   664422      lizegreenieza  Lize van der Merwe   \n",
       "3                    Pretoria   389997             shauns     Shaun Swanepoel   \n",
       "4  Pacific Time (US & Canada)  1831095   douglasriverside     Douglas J. Long   \n",
       "\n",
       "                created_at               updated_at  ... scientific_name  \\\n",
       "0  2015-05-17 11:20:21 UTC  2023-05-26 11:54:43 UTC  ...      Aloe ferox   \n",
       "1  2016-01-27 11:54:52 UTC  2024-05-27 09:40:27 UTC  ...      Aloe ferox   \n",
       "2  2017-06-12 15:59:45 UTC  2023-09-06 10:04:38 UTC  ...      Aloe ferox   \n",
       "3  2017-08-16 08:05:05 UTC  2023-09-06 10:04:34 UTC  ...      Aloe ferox   \n",
       "4  2019-06-21 18:19:54 UTC  2020-10-11 11:04:47 UTC  ...      Aloe ferox   \n",
       "\n",
       "  common_name iconic_taxon_name taxon_id  taxon_family_name taxon_genus_name  \\\n",
       "0   Cape Aloe           Plantae   124412      Asphodelaceae             Aloe   \n",
       "1   Cape Aloe           Plantae   124412      Asphodelaceae             Aloe   \n",
       "2   Cape Aloe           Plantae   124412      Asphodelaceae             Aloe   \n",
       "3   Cape Aloe           Plantae   124412      Asphodelaceae             Aloe   \n",
       "4   Cape Aloe           Plantae   124412      Asphodelaceae             Aloe   \n",
       "\n",
       "  taxon_species_name  taxon_subspecies_name  taxon_variety_name  \\\n",
       "0         Aloe ferox                    NaN                 NaN   \n",
       "1         Aloe ferox                    NaN                 NaN   \n",
       "2         Aloe ferox                    NaN                 NaN   \n",
       "3         Aloe ferox                    NaN                 NaN   \n",
       "4         Aloe ferox                    NaN                 NaN   \n",
       "\n",
       "   field:phenology (foa)  \n",
       "0                    NaN  \n",
       "1                    NaN  \n",
       "2                    NaN  \n",
       "3                    NaN  \n",
       "4                    NaN  \n",
       "\n",
       "[5 rows x 51 columns]"
      ]
     },
     "execution_count": 6,
     "metadata": {},
     "output_type": "execute_result"
    }
   ],
   "source": [
    "No_Evidence_Base.head()"
   ]
  },
  {
   "cell_type": "markdown",
   "metadata": {},
   "source": [
    "__Function for detecting missing values__"
   ]
  },
  {
   "cell_type": "code",
   "execution_count": 7,
   "metadata": {},
   "outputs": [
    {
     "name": "stdout",
     "output_type": "stream",
     "text": [
      "Column\t\t\t% missing\n",
      "-----------------------------------\n"
     ]
    },
    {
     "data": {
      "text/plain": [
       "id                                    0\n",
       "observed_on_string                    0\n",
       "observed_on                           0\n",
       "time_observed_at                      7\n",
       "time_zone                             0\n",
       "user_id                               0\n",
       "user_login                            0\n",
       "user_name                             4\n",
       "created_at                            0\n",
       "updated_at                            0\n",
       "quality_grade                         0\n",
       "license                               5\n",
       "url                                   0\n",
       "image_url                             0\n",
       "sound_url                           100\n",
       "tag_list                             93\n",
       "description                          88\n",
       "num_identification_agreements         0\n",
       "num_identification_disagreements      0\n",
       "captive_cultivated                    0\n",
       "oauth_application_id                 88\n",
       "place_guess                           0\n",
       "latitude                              0\n",
       "longitude                             0\n",
       "positional_accuracy                  10\n",
       "private_place_guess                 100\n",
       "private_latitude                    100\n",
       "private_longitude                   100\n",
       "public_positional_accuracy           10\n",
       "geoprivacy                           99\n",
       "taxon_geoprivacy                      0\n",
       "coordinates_obscured                  0\n",
       "positioning_method                   95\n",
       "positioning_device                   95\n",
       "place_town_name                      99\n",
       "place_county_name                     0\n",
       "place_state_name                      0\n",
       "place_country_name                    0\n",
       "place_admin1_name                     0\n",
       "place_admin2_name                     0\n",
       "species_guess                         0\n",
       "scientific_name                       0\n",
       "common_name                           0\n",
       "iconic_taxon_name                     0\n",
       "taxon_id                              0\n",
       "taxon_family_name                     0\n",
       "taxon_genus_name                      0\n",
       "taxon_species_name                    0\n",
       "taxon_subspecies_name               100\n",
       "field:phenology (foa)                65\n",
       "dtype: int64"
      ]
     },
     "execution_count": 7,
     "metadata": {},
     "output_type": "execute_result"
    }
   ],
   "source": [
    "def missing_values(df):\n",
    "    print(f'Column\\t\\t\\t% missing')\n",
    "    print(f'{\"-\"}'*35) \n",
    "    return (df.isnull().sum()/len(df)*100\n",
    "    ).astype(int)\n",
    "\n",
    "missing_values(flowers_base)"
   ]
  },
  {
   "cell_type": "markdown",
   "metadata": {},
   "source": [
    "__Filtering of only useful attributes__"
   ]
  },
  {
   "cell_type": "code",
   "execution_count": 8,
   "metadata": {},
   "outputs": [
    {
     "name": "stderr",
     "output_type": "stream",
     "text": [
      "C:\\Users\\micha\\AppData\\Local\\Temp\\ipykernel_7200\\2133672115.py:9: SettingWithCopyWarning: \n",
      "A value is trying to be set on a copy of a slice from a DataFrame\n",
      "\n",
      "See the caveats in the documentation: https://pandas.pydata.org/pandas-docs/stable/user_guide/indexing.html#returning-a-view-versus-a-copy\n",
      "  flowers_one.rename(columns={'field:phenology (foa)':'phenology'}, inplace=True)\n",
      "C:\\Users\\micha\\AppData\\Local\\Temp\\ipykernel_7200\\2133672115.py:10: SettingWithCopyWarning: \n",
      "A value is trying to be set on a copy of a slice from a DataFrame\n",
      "\n",
      "See the caveats in the documentation: https://pandas.pydata.org/pandas-docs/stable/user_guide/indexing.html#returning-a-view-versus-a-copy\n",
      "  buds_one.rename(columns={'field:phenology (foa)':'phenology'}, inplace=True)\n",
      "C:\\Users\\micha\\AppData\\Local\\Temp\\ipykernel_7200\\2133672115.py:11: SettingWithCopyWarning: \n",
      "A value is trying to be set on a copy of a slice from a DataFrame\n",
      "\n",
      "See the caveats in the documentation: https://pandas.pydata.org/pandas-docs/stable/user_guide/indexing.html#returning-a-view-versus-a-copy\n",
      "  fruit_one.rename(columns={'field:phenology (foa)':'phenology'}, inplace=True)\n",
      "C:\\Users\\micha\\AppData\\Local\\Temp\\ipykernel_7200\\2133672115.py:12: SettingWithCopyWarning: \n",
      "A value is trying to be set on a copy of a slice from a DataFrame\n",
      "\n",
      "See the caveats in the documentation: https://pandas.pydata.org/pandas-docs/stable/user_guide/indexing.html#returning-a-view-versus-a-copy\n",
      "  No_Evidence_one.rename(columns={'field:phenology (foa)':'phenology'}, inplace=True)\n"
     ]
    }
   ],
   "source": [
    "#all null columns or columns with 100% the same value have been removed\n",
    "useful = ['id','observed_on','image_url','latitude','longitude','field:phenology (foa)']\n",
    "\n",
    "flowers_one= flowers_base[useful]\n",
    "buds_one = buds_base[useful]\n",
    "fruit_one = fruit_base[useful]\n",
    "No_Evidence_one = No_Evidence_Base[useful]\n",
    "\n",
    "flowers_one.rename(columns={'field:phenology (foa)':'phenology'}, inplace=True)\n",
    "buds_one.rename(columns={'field:phenology (foa)':'phenology'}, inplace=True)\n",
    "fruit_one.rename(columns={'field:phenology (foa)':'phenology'}, inplace=True)\n",
    "No_Evidence_one.rename(columns={'field:phenology (foa)':'phenology'}, inplace=True)"
   ]
  },
  {
   "cell_type": "markdown",
   "metadata": {},
   "source": [
    "__Replacing null label values with phenology classifications__"
   ]
  },
  {
   "cell_type": "code",
   "execution_count": 9,
   "metadata": {},
   "outputs": [
    {
     "name": "stderr",
     "output_type": "stream",
     "text": [
      "C:\\Users\\micha\\AppData\\Local\\Temp\\ipykernel_7200\\331543464.py:1: SettingWithCopyWarning: \n",
      "A value is trying to be set on a copy of a slice from a DataFrame.\n",
      "Try using .loc[row_indexer,col_indexer] = value instead\n",
      "\n",
      "See the caveats in the documentation: https://pandas.pydata.org/pandas-docs/stable/user_guide/indexing.html#returning-a-view-versus-a-copy\n",
      "  flowers_one[\"phenology\"]=flowers_one[\"phenology\"].fillna(\"Flowers\")\n",
      "C:\\Users\\micha\\AppData\\Local\\Temp\\ipykernel_7200\\331543464.py:2: SettingWithCopyWarning: \n",
      "A value is trying to be set on a copy of a slice from a DataFrame.\n",
      "Try using .loc[row_indexer,col_indexer] = value instead\n",
      "\n",
      "See the caveats in the documentation: https://pandas.pydata.org/pandas-docs/stable/user_guide/indexing.html#returning-a-view-versus-a-copy\n",
      "  buds_one[\"phenology\"]=buds_one[\"phenology\"].fillna(\"Buds\")\n",
      "C:\\Users\\micha\\AppData\\Local\\Temp\\ipykernel_7200\\331543464.py:3: SettingWithCopyWarning: \n",
      "A value is trying to be set on a copy of a slice from a DataFrame.\n",
      "Try using .loc[row_indexer,col_indexer] = value instead\n",
      "\n",
      "See the caveats in the documentation: https://pandas.pydata.org/pandas-docs/stable/user_guide/indexing.html#returning-a-view-versus-a-copy\n",
      "  fruit_one[\"phenology\"]=fruit_one[\"phenology\"].fillna(\"Fruit\")\n",
      "C:\\Users\\micha\\AppData\\Local\\Temp\\ipykernel_7200\\331543464.py:4: SettingWithCopyWarning: \n",
      "A value is trying to be set on a copy of a slice from a DataFrame.\n",
      "Try using .loc[row_indexer,col_indexer] = value instead\n",
      "\n",
      "See the caveats in the documentation: https://pandas.pydata.org/pandas-docs/stable/user_guide/indexing.html#returning-a-view-versus-a-copy\n",
      "  No_Evidence_one[\"phenology\"]=No_Evidence_one[\"phenology\"].fillna(\"No Evidence\")\n"
     ]
    }
   ],
   "source": [
    "flowers_one[\"phenology\"]=flowers_one[\"phenology\"].fillna(\"Flowers\")\n",
    "buds_one[\"phenology\"]=buds_one[\"phenology\"].fillna(\"Buds\")\n",
    "fruit_one[\"phenology\"]=fruit_one[\"phenology\"].fillna(\"Fruit\")\n",
    "No_Evidence_one[\"phenology\"]=No_Evidence_one[\"phenology\"].fillna(\"No Evidence\")"
   ]
  },
  {
   "cell_type": "markdown",
   "metadata": {},
   "source": [
    "__Dataset train test splitting__"
   ]
  },
  {
   "cell_type": "code",
   "execution_count": 10,
   "metadata": {},
   "outputs": [],
   "source": [
    "from sklearn.model_selection import train_test_split\n",
    "\n",
    "train_flowers, test_flowers = train_test_split(flowers_one, test_size=0.25, random_state=42)\n",
    "train_buds, test_buds = train_test_split(buds_one, test_size=0.25, random_state=42)\n",
    "train_fruit, test_fruit = train_test_split(fruit_one, test_size=0.25, random_state=42)\n",
    "train_No_Evidence, test_No_Evidence = train_test_split(No_Evidence_one, test_size=0.25, random_state=42)"
   ]
  },
  {
   "cell_type": "code",
   "execution_count": 11,
   "metadata": {},
   "outputs": [
    {
     "data": {
      "text/html": [
       "<div>\n",
       "<style scoped>\n",
       "    .dataframe tbody tr th:only-of-type {\n",
       "        vertical-align: middle;\n",
       "    }\n",
       "\n",
       "    .dataframe tbody tr th {\n",
       "        vertical-align: top;\n",
       "    }\n",
       "\n",
       "    .dataframe thead th {\n",
       "        text-align: right;\n",
       "    }\n",
       "</style>\n",
       "<table border=\"1\" class=\"dataframe\">\n",
       "  <thead>\n",
       "    <tr style=\"text-align: right;\">\n",
       "      <th></th>\n",
       "      <th>id</th>\n",
       "      <th>observed_on</th>\n",
       "      <th>image_url</th>\n",
       "      <th>latitude</th>\n",
       "      <th>longitude</th>\n",
       "      <th>phenology</th>\n",
       "    </tr>\n",
       "  </thead>\n",
       "  <tbody>\n",
       "    <tr>\n",
       "      <th>453</th>\n",
       "      <td>173459251</td>\n",
       "      <td>2023-07-03</td>\n",
       "      <td>https://inaturalist-open-data.s3.amazonaws.com...</td>\n",
       "      <td>-29.681617</td>\n",
       "      <td>30.468153</td>\n",
       "      <td>Buds &amp; Flowers</td>\n",
       "    </tr>\n",
       "    <tr>\n",
       "      <th>341</th>\n",
       "      <td>163657433</td>\n",
       "      <td>2023-05-24</td>\n",
       "      <td>https://inaturalist-open-data.s3.amazonaws.com...</td>\n",
       "      <td>-33.539844</td>\n",
       "      <td>23.101531</td>\n",
       "      <td>Flowers</td>\n",
       "    </tr>\n",
       "    <tr>\n",
       "      <th>177</th>\n",
       "      <td>52944019</td>\n",
       "      <td>2020-07-12</td>\n",
       "      <td>https://inaturalist-open-data.s3.amazonaws.com...</td>\n",
       "      <td>-33.442159</td>\n",
       "      <td>26.612050</td>\n",
       "      <td>Flowers</td>\n",
       "    </tr>\n",
       "    <tr>\n",
       "      <th>86</th>\n",
       "      <td>32337112</td>\n",
       "      <td>2015-07-10</td>\n",
       "      <td>https://inaturalist-open-data.s3.amazonaws.com...</td>\n",
       "      <td>-33.483333</td>\n",
       "      <td>25.750000</td>\n",
       "      <td>Flowers</td>\n",
       "    </tr>\n",
       "    <tr>\n",
       "      <th>332</th>\n",
       "      <td>137161855</td>\n",
       "      <td>2022-09-30</td>\n",
       "      <td>https://inaturalist-open-data.s3.amazonaws.com...</td>\n",
       "      <td>-33.712674</td>\n",
       "      <td>22.460219</td>\n",
       "      <td>Flowers</td>\n",
       "    </tr>\n",
       "  </tbody>\n",
       "</table>\n",
       "</div>"
      ],
      "text/plain": [
       "            id observed_on                                          image_url  \\\n",
       "453  173459251  2023-07-03  https://inaturalist-open-data.s3.amazonaws.com...   \n",
       "341  163657433  2023-05-24  https://inaturalist-open-data.s3.amazonaws.com...   \n",
       "177   52944019  2020-07-12  https://inaturalist-open-data.s3.amazonaws.com...   \n",
       "86    32337112  2015-07-10  https://inaturalist-open-data.s3.amazonaws.com...   \n",
       "332  137161855  2022-09-30  https://inaturalist-open-data.s3.amazonaws.com...   \n",
       "\n",
       "      latitude  longitude       phenology  \n",
       "453 -29.681617  30.468153  Buds & Flowers  \n",
       "341 -33.539844  23.101531         Flowers  \n",
       "177 -33.442159  26.612050         Flowers  \n",
       "86  -33.483333  25.750000         Flowers  \n",
       "332 -33.712674  22.460219         Flowers  "
      ]
     },
     "execution_count": 11,
     "metadata": {},
     "output_type": "execute_result"
    }
   ],
   "source": [
    "test_flowers.head()\n",
    "#test_buds.head()\n",
    "#test_fruit.head()\n",
    "#test_No_Evidence.head()"
   ]
  },
  {
   "cell_type": "markdown",
   "metadata": {},
   "source": [
    "__Combining of seperate training data frames and test data frames__"
   ]
  },
  {
   "cell_type": "code",
   "execution_count": 12,
   "metadata": {},
   "outputs": [
    {
     "name": "stdout",
     "output_type": "stream",
     "text": [
      "<class 'pandas.core.frame.DataFrame'>\n",
      "Index: 1893 entries, 222 to 102\n",
      "Data columns (total 6 columns):\n",
      " #   Column       Non-Null Count  Dtype         \n",
      "---  ------       --------------  -----         \n",
      " 0   id           1893 non-null   int64         \n",
      " 1   observed_on  1893 non-null   datetime64[ns]\n",
      " 2   image_url    1893 non-null   object        \n",
      " 3   latitude     1893 non-null   float64       \n",
      " 4   longitude    1893 non-null   float64       \n",
      " 5   phenology    1893 non-null   object        \n",
      "dtypes: datetime64[ns](1), float64(2), int64(1), object(2)\n",
      "memory usage: 103.5+ KB\n"
     ]
    }
   ],
   "source": [
    "Test_set = pd.concat([test_flowers, test_buds, test_fruit, test_No_Evidence], axis=0)\n",
    "Train_set = pd.concat([train_flowers, train_buds, train_fruit, train_No_Evidence], axis=0)\n",
    "\n",
    "Train_set.info()"
   ]
  },
  {
   "cell_type": "code",
   "execution_count": 13,
   "metadata": {},
   "outputs": [
    {
     "name": "stdout",
     "output_type": "stream",
     "text": [
      "Column\t\t\t% missing\n",
      "-----------------------------------\n"
     ]
    },
    {
     "data": {
      "text/plain": [
       "id             0\n",
       "observed_on    0\n",
       "image_url      0\n",
       "latitude       0\n",
       "longitude      0\n",
       "phenology      0\n",
       "dtype: int64"
      ]
     },
     "execution_count": 13,
     "metadata": {},
     "output_type": "execute_result"
    }
   ],
   "source": [
    "missing_values(Train_set)"
   ]
  },
  {
   "cell_type": "markdown",
   "metadata": {},
   "source": [
    "__Dropping of null values__"
   ]
  },
  {
   "cell_type": "code",
   "execution_count": 14,
   "metadata": {},
   "outputs": [
    {
     "name": "stdout",
     "output_type": "stream",
     "text": [
      "<class 'pandas.core.frame.DataFrame'>\n",
      "Index: 1893 entries, 222 to 102\n",
      "Data columns (total 6 columns):\n",
      " #   Column       Non-Null Count  Dtype         \n",
      "---  ------       --------------  -----         \n",
      " 0   id           1893 non-null   int64         \n",
      " 1   observed_on  1893 non-null   datetime64[ns]\n",
      " 2   image_url    1893 non-null   object        \n",
      " 3   latitude     1893 non-null   float64       \n",
      " 4   longitude    1893 non-null   float64       \n",
      " 5   phenology    1893 non-null   object        \n",
      "dtypes: datetime64[ns](1), float64(2), int64(1), object(2)\n",
      "memory usage: 103.5+ KB\n"
     ]
    }
   ],
   "source": [
    "Train_set = Train_set.dropna()\n",
    "\n",
    "Train_set.info()"
   ]
  },
  {
   "cell_type": "code",
   "execution_count": 15,
   "metadata": {},
   "outputs": [
    {
     "name": "stdout",
     "output_type": "stream",
     "text": [
      "Column\t\t\t% missing\n",
      "-----------------------------------\n"
     ]
    },
    {
     "data": {
      "text/plain": [
       "id             0\n",
       "observed_on    0\n",
       "image_url      0\n",
       "latitude       0\n",
       "longitude      0\n",
       "phenology      0\n",
       "dtype: int64"
      ]
     },
     "execution_count": 15,
     "metadata": {},
     "output_type": "execute_result"
    }
   ],
   "source": [
    "missing_values(Test_set)"
   ]
  },
  {
   "cell_type": "markdown",
   "metadata": {},
   "source": [
    "__Removing duplicate rows__"
   ]
  },
  {
   "cell_type": "code",
   "execution_count": 16,
   "metadata": {},
   "outputs": [],
   "source": [
    "Train_set = Train_set.drop_duplicates()\n",
    "Test_set = Test_set.drop_duplicates()"
   ]
  },
  {
   "cell_type": "code",
   "execution_count": 17,
   "metadata": {},
   "outputs": [
    {
     "data": {
      "text/html": [
       "<div>\n",
       "<style scoped>\n",
       "    .dataframe tbody tr th:only-of-type {\n",
       "        vertical-align: middle;\n",
       "    }\n",
       "\n",
       "    .dataframe tbody tr th {\n",
       "        vertical-align: top;\n",
       "    }\n",
       "\n",
       "    .dataframe thead th {\n",
       "        text-align: right;\n",
       "    }\n",
       "</style>\n",
       "<table border=\"1\" class=\"dataframe\">\n",
       "  <thead>\n",
       "    <tr style=\"text-align: right;\">\n",
       "      <th></th>\n",
       "      <th>id</th>\n",
       "      <th>observed_on</th>\n",
       "      <th>image_url</th>\n",
       "      <th>latitude</th>\n",
       "      <th>longitude</th>\n",
       "      <th>phenology</th>\n",
       "    </tr>\n",
       "  </thead>\n",
       "  <tbody>\n",
       "  </tbody>\n",
       "</table>\n",
       "</div>"
      ],
      "text/plain": [
       "Empty DataFrame\n",
       "Columns: [id, observed_on, image_url, latitude, longitude, phenology]\n",
       "Index: []"
      ]
     },
     "execution_count": 17,
     "metadata": {},
     "output_type": "execute_result"
    }
   ],
   "source": [
    "Train_set[Train_set.duplicated()]"
   ]
  },
  {
   "cell_type": "code",
   "execution_count": 18,
   "metadata": {},
   "outputs": [
    {
     "name": "stdout",
     "output_type": "stream",
     "text": [
      "                 id                    observed_on     latitude    longitude\n",
      "count  1.766000e+03                           1766  1766.000000  1766.000000\n",
      "mean   9.684270e+07  2020-10-31 16:26:38.187995392   -33.357067    24.386513\n",
      "min    8.154638e+06            1996-07-22 00:00:00   -34.454789    17.954658\n",
      "0%     8.154638e+06            1996-07-22 00:00:00   -34.454789    17.954658\n",
      "10%    2.926031e+07            2018-09-13 00:00:00   -34.169949    21.174461\n",
      "20%    3.767568e+07            2019-09-01 00:00:00   -34.009850    21.860310\n",
      "30%    5.146136e+07            2020-05-31 00:00:00   -33.729723    22.173261\n",
      "40%    5.835307e+07            2020-07-19 00:00:00   -33.504402    22.642811\n",
      "50%    8.186650e+07            2021-04-01 00:00:00   -33.459161    23.866608\n",
      "60%    1.234903e+08            2022-03-07 00:00:00   -33.394626    26.309395\n",
      "70%    1.417450e+08            2022-10-28 00:00:00   -33.316261    26.540599\n",
      "80%    1.709759e+08            2023-06-21 00:00:00   -33.156960    26.644670\n",
      "90%    1.759294e+08            2023-07-12 12:00:00   -32.591601    27.189746\n",
      "max    2.138063e+08            2024-04-28 00:00:00   -29.475536    31.065431\n",
      "std    5.818312e+07                            NaN     0.870943     2.713569\n",
      "                 id                    observed_on    latitude   longitude\n",
      "count  6.220000e+02                            622  622.000000  622.000000\n",
      "mean   9.611765e+07  2020-11-10 15:28:21.607717120  -33.261040   24.667266\n",
      "min    9.034202e+06            2000-08-19 00:00:00  -34.411179   19.963389\n",
      "0%     9.034202e+06            2000-08-19 00:00:00  -34.411179   19.963389\n",
      "10%    2.865914e+07            2018-05-30 16:48:00  -34.154368   21.393551\n",
      "20%    3.435171e+07            2019-08-10 00:00:00  -33.942701   22.066368\n",
      "30%    5.138257e+07            2020-02-12 04:48:00  -33.647221   22.452911\n",
      "40%    5.569781e+07            2020-07-18 09:36:00  -33.486728   22.975673\n",
      "50%    7.749331e+07            2021-03-02 12:00:00  -33.430318   25.338757\n",
      "60%    1.181037e+08  2022-04-08 14:24:00.000000256  -33.367590   26.425848\n",
      "70%    1.477370e+08            2022-11-14 00:00:00  -33.258042   26.562508\n",
      "80%    1.715133e+08            2023-06-24 00:00:00  -33.068496   26.716821\n",
      "90%    1.810932e+08            2023-08-27 00:00:00  -32.350094   27.234455\n",
      "max    2.125692e+08            2024-04-27 00:00:00  -29.465461   30.778869\n",
      "std    6.010496e+07                            NaN    0.960813    2.719350\n"
     ]
    }
   ],
   "source": [
    "print(Train_set.describe([x*0.1 for x in range(10)]))\n",
    "print(Test_set.describe([x*0.1 for x in range(10)]))"
   ]
  },
  {
   "cell_type": "markdown",
   "metadata": {},
   "source": [
    "__Longitude and latitude data analysis__"
   ]
  },
  {
   "cell_type": "code",
   "execution_count": 19,
   "metadata": {},
   "outputs": [
    {
     "data": {
      "text/plain": [
       "<seaborn.axisgrid.FacetGrid at 0x20e095ac750>"
      ]
     },
     "execution_count": 19,
     "metadata": {},
     "output_type": "execute_result"
    },
    {
     "data": {
      "image/png": "[encoded data removed]",
      "text/plain": [
       "<Figure size 500x500 with 1 Axes>"
      ]
     },
     "metadata": {},
     "output_type": "display_data"
    },
    {
     "data": {
      "image/png": "[encoded data removed]",
      "text/plain": [
       "<Figure size 500x500 with 1 Axes>"
      ]
     },
     "metadata": {},
     "output_type": "display_data"
    }
   ],
   "source": [
    "sns.displot(data =Train_set['latitude'])\n",
    "sns.displot(data =Train_set['longitude'])"
   ]
  },
  {
   "cell_type": "markdown",
   "metadata": {},
   "source": [
    "__Data analysis: Phenological stages over the months of the year__"
   ]
  },
  {
   "cell_type": "code",
   "execution_count": 20,
   "metadata": {},
   "outputs": [
    {
     "data": {
      "image/png": "[encoded data removed]",
      "text/plain": [
       "<Figure size 2000x600 with 1 Axes>"
      ]
     },
     "metadata": {},
     "output_type": "display_data"
    }
   ],
   "source": [
    "Train_set[\"month\"] = pd.to_datetime(Train_set[\"observed_on\"]).dt.month_name()\n",
    "filteredDF = Train_set[Train_set[\"phenology\"].isin([\"Flowers\",\"Buds\",\"Fruit\"])]\n",
    "groupedDF = filteredDF.groupby([\"month\", \"phenology\"]).size().reset_index(name=\"count\")\n",
    "\n",
    "pivot = groupedDF.pivot(index=\"month\", columns=\"phenology\", values=\"count\").fillna(0)\n",
    "pivot = pivot.reindex(\n",
    "    [\"January\", \"February\", \"March\", \"April\", \"May\", \"June\", \n",
    "    \"July\", \"August\", \"September\", \"October\", \"November\", \"December\"],\n",
    "    fill_value=0\n",
    ")\n",
    "\n",
    "pivot.plot(kind=\"line\", marker=\"o\", figsize=(20, 6))\n",
    "\n",
    "plt.title(\"Phenology Stages Over Months Of The Year\")\n",
    "plt.xlabel(\"Months\")\n",
    "plt.ylabel(\"Occurences\")\n",
    "plt.legend(title=\"Phenology stages\")\n",
    "plt.grid()\n",
    "plt.show()"
   ]
  },
  {
   "cell_type": "code",
   "execution_count": 21,
   "metadata": {},
   "outputs": [
    {
     "name": "stdout",
     "output_type": "stream",
     "text": [
      "Index([453, 341, 177,  86, 332, 140, 272, 296, 101, 518,\n",
      "       ...\n",
      "        83, 278, 448,  79,  23, 287, 301, 280, 244, 290],\n",
      "      dtype='int64', length=622)\n"
     ]
    }
   ],
   "source": [
    "print(Test_set.index)"
   ]
  },
  {
   "cell_type": "markdown",
   "metadata": {},
   "source": [
    "__Resetting scrambled dataset indexes__"
   ]
  },
  {
   "cell_type": "code",
   "execution_count": 22,
   "metadata": {},
   "outputs": [],
   "source": [
    "Train_set = Train_set.reset_index(drop=True)\n",
    "Test_set = Test_set.reset_index(drop=True)"
   ]
  },
  {
   "cell_type": "code",
   "execution_count": 23,
   "metadata": {},
   "outputs": [
    {
     "name": "stdout",
     "output_type": "stream",
     "text": [
      "<class 'pandas.core.frame.DataFrame'>\n",
      "RangeIndex: 622 entries, 0 to 621\n",
      "Data columns (total 6 columns):\n",
      " #   Column       Non-Null Count  Dtype         \n",
      "---  ------       --------------  -----         \n",
      " 0   id           622 non-null    int64         \n",
      " 1   observed_on  622 non-null    datetime64[ns]\n",
      " 2   image_url    622 non-null    object        \n",
      " 3   latitude     622 non-null    float64       \n",
      " 4   longitude    622 non-null    float64       \n",
      " 5   phenology    622 non-null    object        \n",
      "dtypes: datetime64[ns](1), float64(2), int64(1), object(2)\n",
      "memory usage: 29.3+ KB\n"
     ]
    }
   ],
   "source": [
    "Test_set.info()"
   ]
  },
  {
   "cell_type": "code",
   "execution_count": 24,
   "metadata": {},
   "outputs": [
    {
     "name": "stdout",
     "output_type": "stream",
     "text": [
      "Column\t\t\t% missing\n",
      "-----------------------------------\n"
     ]
    },
    {
     "data": {
      "text/plain": [
       "id             0\n",
       "observed_on    0\n",
       "image_url      0\n",
       "latitude       0\n",
       "longitude      0\n",
       "phenology      0\n",
       "month          0\n",
       "dtype: int64"
      ]
     },
     "execution_count": 24,
     "metadata": {},
     "output_type": "execute_result"
    }
   ],
   "source": [
    "missing_values(Train_set)"
   ]
  },
  {
   "cell_type": "code",
   "execution_count": 25,
   "metadata": {},
   "outputs": [
    {
     "name": "stdout",
     "output_type": "stream",
     "text": [
      "<class 'pandas.core.frame.DataFrame'>\n",
      "RangeIndex: 1766 entries, 0 to 1765\n",
      "Data columns (total 7 columns):\n",
      " #   Column       Non-Null Count  Dtype         \n",
      "---  ------       --------------  -----         \n",
      " 0   id           1766 non-null   int64         \n",
      " 1   observed_on  1766 non-null   datetime64[ns]\n",
      " 2   image_url    1766 non-null   object        \n",
      " 3   latitude     1766 non-null   float64       \n",
      " 4   longitude    1766 non-null   float64       \n",
      " 5   phenology    1766 non-null   object        \n",
      " 6   month        1766 non-null   object        \n",
      "dtypes: datetime64[ns](1), float64(2), int64(1), object(3)\n",
      "memory usage: 96.7+ KB\n"
     ]
    }
   ],
   "source": [
    "Train_set.info()"
   ]
  },
  {
   "cell_type": "code",
   "execution_count": 26,
   "metadata": {},
   "outputs": [
    {
     "data": {
      "text/html": [
       "<div>\n",
       "<style scoped>\n",
       "    .dataframe tbody tr th:only-of-type {\n",
       "        vertical-align: middle;\n",
       "    }\n",
       "\n",
       "    .dataframe tbody tr th {\n",
       "        vertical-align: top;\n",
       "    }\n",
       "\n",
       "    .dataframe thead th {\n",
       "        text-align: right;\n",
       "    }\n",
       "</style>\n",
       "<table border=\"1\" class=\"dataframe\">\n",
       "  <thead>\n",
       "    <tr style=\"text-align: right;\">\n",
       "      <th></th>\n",
       "      <th>observed_on</th>\n",
       "      <th>image_url</th>\n",
       "      <th>phenology</th>\n",
       "    </tr>\n",
       "  </thead>\n",
       "  <tbody>\n",
       "    <tr>\n",
       "      <th>0</th>\n",
       "      <td>2020-07-26</td>\n",
       "      <td>https://inaturalist-open-data.s3.amazonaws.com...</td>\n",
       "      <td>Flowers</td>\n",
       "    </tr>\n",
       "    <tr>\n",
       "      <th>1</th>\n",
       "      <td>2023-08-18</td>\n",
       "      <td>https://inaturalist-open-data.s3.amazonaws.com...</td>\n",
       "      <td>Flowers</td>\n",
       "    </tr>\n",
       "    <tr>\n",
       "      <th>2</th>\n",
       "      <td>2023-06-24</td>\n",
       "      <td>https://inaturalist-open-data.s3.amazonaws.com...</td>\n",
       "      <td>Buds &amp; Flowers</td>\n",
       "    </tr>\n",
       "    <tr>\n",
       "      <th>3</th>\n",
       "      <td>2023-08-06</td>\n",
       "      <td>https://static.inaturalist.org/photos/30802637...</td>\n",
       "      <td>Flowers</td>\n",
       "    </tr>\n",
       "    <tr>\n",
       "      <th>4</th>\n",
       "      <td>2020-07-12</td>\n",
       "      <td>https://inaturalist-open-data.s3.amazonaws.com...</td>\n",
       "      <td>Flowers</td>\n",
       "    </tr>\n",
       "  </tbody>\n",
       "</table>\n",
       "</div>"
      ],
      "text/plain": [
       "  observed_on                                          image_url  \\\n",
       "0  2020-07-26  https://inaturalist-open-data.s3.amazonaws.com...   \n",
       "1  2023-08-18  https://inaturalist-open-data.s3.amazonaws.com...   \n",
       "2  2023-06-24  https://inaturalist-open-data.s3.amazonaws.com...   \n",
       "3  2023-08-06  https://static.inaturalist.org/photos/30802637...   \n",
       "4  2020-07-12  https://inaturalist-open-data.s3.amazonaws.com...   \n",
       "\n",
       "        phenology  \n",
       "0         Flowers  \n",
       "1         Flowers  \n",
       "2  Buds & Flowers  \n",
       "3         Flowers  \n",
       "4         Flowers  "
      ]
     },
     "execution_count": 26,
     "metadata": {},
     "output_type": "execute_result"
    }
   ],
   "source": [
    "lastTrain_set = Train_set[['observed_on','image_url','phenology']].copy()\n",
    "lastTest_set = Test_set[['observed_on','image_url','phenology']].copy()\n",
    "lastTrain_set.head()"
   ]
  },
  {
   "cell_type": "markdown",
   "metadata": {},
   "source": [
    "__Image download function__"
   ]
  },
  {
   "cell_type": "code",
   "execution_count": 27,
   "metadata": {},
   "outputs": [],
   "source": [
    "def download_images(row, folder):\n",
    "    url = row['image_url']\n",
    "    filename = f\"{row.name}.png\"  # Give each image a filename that is formed from the corresponding index\n",
    "    file_path = os.path.join(folder, filename)# Join the directory and file name\n",
    "    \n",
    "    try:\n",
    "        response = requests.get(url, timeout=10)\n",
    "        response.raise_for_status()  # reports on successful downloads\n",
    "        image = Image.open(BytesIO(response.content))\n",
    "        image.save(file_path) #store the image in the folder\n",
    "        return (file_path, row[\"phenology\"])\n",
    "    except Exception as e:\n",
    "        print(f\"Error downloading image at {url}: {e}\") #error message for failed dowloads\n",
    "        return (None, row[\"phenology\"]) #return empty image path if the image could not be downloaded"
   ]
  },
  {
   "cell_type": "markdown",
   "metadata": {},
   "source": [
    "__Function for downloading the images concurrently__"
   ]
  },
  {
   "cell_type": "code",
   "execution_count": 28,
   "metadata": {},
   "outputs": [],
   "source": [
    "from concurrent.futures import ThreadPoolExecutor\n",
    "\n",
    "def fast_download(dataframe, folder, max_workers=8):\n",
    "    with ThreadPoolExecutor(max_workers=max_workers) as executor:\n",
    "        results = list(executor.map(lambda row: download_images(row, folder), [row for _, row in dataframe.iterrows()]))#implements download_images on each row\n",
    "    \n",
    "    dataframe[\"image\"] = [result[0] for result in results]  # Store the file paths in the data frame\n",
    "    dataframe[\"phenology\"] = [result[1] for result in results]  # Store the corresponding label as well\n",
    "\n",
    "    return dataframe"
   ]
  },
  {
   "cell_type": "code",
   "execution_count": 29,
   "metadata": {},
   "outputs": [
    {
     "name": "stdout",
     "output_type": "stream",
     "text": [
      "Error downloading image at https://static.inaturalist.org/photos/218952263/medium.jpeg: 403 Client Error: Forbidden for url: https://static.inaturalist.org/photos/218952263/medium.jpeg\n",
      "Error downloading image at https://static.inaturalist.org/photos/232649195/medium.jpeg: 403 Client Error: Forbidden for url: https://static.inaturalist.org/photos/232649195/medium.jpeg\n",
      "Error downloading image at https://static.inaturalist.org/photos/254984346/medium.jpeg: 403 Client Error: Forbidden for url: https://static.inaturalist.org/photos/254984346/medium.jpeg\n",
      "Error downloading image at https://static.inaturalist.org/photos/218864170/medium.jpeg: 403 Client Error: Forbidden for url: https://static.inaturalist.org/photos/218864170/medium.jpeg\n",
      "Error downloading image at https://static.inaturalist.org/photos/273455250/medium.jpeg: 403 Client Error: Forbidden for url: https://static.inaturalist.org/photos/273455250/medium.jpeg\n"
     ]
    }
   ],
   "source": [
    "lastTrain_set = fast_download(lastTrain_set, \"Train\")"
   ]
  },
  {
   "cell_type": "code",
   "execution_count": 30,
   "metadata": {},
   "outputs": [],
   "source": [
    "lastTest_set = fast_download(lastTest_set, \"Test\")"
   ]
  },
  {
   "cell_type": "code",
   "execution_count": 31,
   "metadata": {},
   "outputs": [
    {
     "name": "stdout",
     "output_type": "stream",
     "text": [
      "  observed_on                                          image_url  \\\n",
      "0  2020-07-26  https://inaturalist-open-data.s3.amazonaws.com...   \n",
      "1  2023-08-18  https://inaturalist-open-data.s3.amazonaws.com...   \n",
      "2  2023-06-24  https://inaturalist-open-data.s3.amazonaws.com...   \n",
      "3  2023-08-06  https://static.inaturalist.org/photos/30802637...   \n",
      "4  2020-07-12  https://inaturalist-open-data.s3.amazonaws.com...   \n",
      "\n",
      "        phenology        image  \n",
      "0         Flowers  Train\\0.png  \n",
      "1         Flowers  Train\\1.png  \n",
      "2  Buds & Flowers  Train\\2.png  \n",
      "3         Flowers  Train\\3.png  \n",
      "4         Flowers  Train\\4.png  \n",
      "  observed_on                                          image_url  \\\n",
      "0  2023-07-03  https://inaturalist-open-data.s3.amazonaws.com...   \n",
      "1  2023-05-24  https://inaturalist-open-data.s3.amazonaws.com...   \n",
      "2  2020-07-12  https://inaturalist-open-data.s3.amazonaws.com...   \n",
      "3  2015-07-10  https://inaturalist-open-data.s3.amazonaws.com...   \n",
      "4  2022-09-30  https://inaturalist-open-data.s3.amazonaws.com...   \n",
      "\n",
      "        phenology       image  \n",
      "0  Buds & Flowers  Test\\0.png  \n",
      "1         Flowers  Test\\1.png  \n",
      "2         Flowers  Test\\2.png  \n",
      "3         Flowers  Test\\3.png  \n",
      "4         Flowers  Test\\4.png  \n"
     ]
    }
   ],
   "source": [
    "print(lastTrain_set.head())\n",
    "print(lastTest_set.head())"
   ]
  },
  {
   "cell_type": "code",
   "execution_count": 32,
   "metadata": {},
   "outputs": [],
   "source": [
    "processedDF = lastTrain_set.drop(columns='image_url')\n",
    "lastTest_set = lastTest_set.drop(columns='image_url')"
   ]
  },
  {
   "cell_type": "code",
   "execution_count": 33,
   "metadata": {},
   "outputs": [
    {
     "name": "stdout",
     "output_type": "stream",
     "text": [
      "  observed_on       phenology        image\n",
      "0  2020-07-26         Flowers  Train\\0.png\n",
      "1  2023-08-18         Flowers  Train\\1.png\n",
      "2  2023-06-24  Buds & Flowers  Train\\2.png\n",
      "3  2023-08-06         Flowers  Train\\3.png\n",
      "4  2020-07-12         Flowers  Train\\4.png\n",
      "  observed_on       phenology       image\n",
      "0  2023-07-03  Buds & Flowers  Test\\0.png\n",
      "1  2023-05-24         Flowers  Test\\1.png\n",
      "2  2020-07-12         Flowers  Test\\2.png\n",
      "3  2015-07-10         Flowers  Test\\3.png\n",
      "4  2022-09-30         Flowers  Test\\4.png\n"
     ]
    }
   ],
   "source": [
    "print(processedDF.head())\n",
    "print(lastTest_set.head())"
   ]
  },
  {
   "cell_type": "markdown",
   "metadata": {},
   "source": [
    "__Drop records where images failed downloading__"
   ]
  },
  {
   "cell_type": "code",
   "execution_count": 34,
   "metadata": {},
   "outputs": [
    {
     "data": {
      "text/plain": [
       "1761"
      ]
     },
     "execution_count": 34,
     "metadata": {},
     "output_type": "execute_result"
    }
   ],
   "source": [
    "processedDF = processedDF.dropna()\n",
    "lastTest_set = lastTest_set.dropna()\n",
    "len(processedDF)"
   ]
  },
  {
   "cell_type": "markdown",
   "metadata": {},
   "source": [
    "__Map for the encoding of the label data__"
   ]
  },
  {
   "cell_type": "code",
   "execution_count": 35,
   "metadata": {},
   "outputs": [],
   "source": [
    "label_map = {\n",
    "    'Flowers': 0,\n",
    "    'Buds': 1,\n",
    "    'Fruit': 2,\n",
    "    'No Evidence': 3,\n",
    "    'Buds & Flowers': 4,\n",
    "    'Flowers & Buds': 5,\n",
    "    'Flowers & Fruit': 6,\n",
    "    'Flower, Buds & Fruit': 7\n",
    "}"
   ]
  },
  {
   "cell_type": "code",
   "execution_count": 36,
   "metadata": {},
   "outputs": [
    {
     "data": {
      "text/html": [
       "<div>\n",
       "<style scoped>\n",
       "    .dataframe tbody tr th:only-of-type {\n",
       "        vertical-align: middle;\n",
       "    }\n",
       "\n",
       "    .dataframe tbody tr th {\n",
       "        vertical-align: top;\n",
       "    }\n",
       "\n",
       "    .dataframe thead th {\n",
       "        text-align: right;\n",
       "    }\n",
       "</style>\n",
       "<table border=\"1\" class=\"dataframe\">\n",
       "  <thead>\n",
       "    <tr style=\"text-align: right;\">\n",
       "      <th></th>\n",
       "      <th>observed_on</th>\n",
       "      <th>phenology</th>\n",
       "      <th>image</th>\n",
       "    </tr>\n",
       "  </thead>\n",
       "  <tbody>\n",
       "    <tr>\n",
       "      <th>0</th>\n",
       "      <td>2020-07-26</td>\n",
       "      <td>0</td>\n",
       "      <td>Train\\0.png</td>\n",
       "    </tr>\n",
       "    <tr>\n",
       "      <th>1</th>\n",
       "      <td>2023-08-18</td>\n",
       "      <td>0</td>\n",
       "      <td>Train\\1.png</td>\n",
       "    </tr>\n",
       "    <tr>\n",
       "      <th>2</th>\n",
       "      <td>2023-06-24</td>\n",
       "      <td>4</td>\n",
       "      <td>Train\\2.png</td>\n",
       "    </tr>\n",
       "    <tr>\n",
       "      <th>3</th>\n",
       "      <td>2023-08-06</td>\n",
       "      <td>0</td>\n",
       "      <td>Train\\3.png</td>\n",
       "    </tr>\n",
       "    <tr>\n",
       "      <th>4</th>\n",
       "      <td>2020-07-12</td>\n",
       "      <td>0</td>\n",
       "      <td>Train\\4.png</td>\n",
       "    </tr>\n",
       "  </tbody>\n",
       "</table>\n",
       "</div>"
      ],
      "text/plain": [
       "  observed_on  phenology        image\n",
       "0  2020-07-26          0  Train\\0.png\n",
       "1  2023-08-18          0  Train\\1.png\n",
       "2  2023-06-24          4  Train\\2.png\n",
       "3  2023-08-06          0  Train\\3.png\n",
       "4  2020-07-12          0  Train\\4.png"
      ]
     },
     "execution_count": 36,
     "metadata": {},
     "output_type": "execute_result"
    }
   ],
   "source": [
    "processedDF[\"phenology\"] = processedDF[\"phenology\"].map(label_map).astype(int) #convert the encoding to integers\n",
    "lastTest_set[\"phenology\"] = lastTest_set[\"phenology\"].map(label_map).astype(int)\n",
    "processedDF.head()"
   ]
  },
  {
   "cell_type": "markdown",
   "metadata": {},
   "source": [
    "__Class creation for image preprocessing methods__"
   ]
  },
  {
   "cell_type": "code",
   "execution_count": 37,
   "metadata": {},
   "outputs": [],
   "source": [
    "\n",
    "transform = transforms.Compose([\n",
    "    transforms.RandomHorizontalFlip(p=0.5), #randomly flip images horizontally\n",
    "    transforms.RandomRotation(degrees=15), #randomly rotate images by 15 degrees\n",
    "    transforms.Resize((224, 224)), #resize all images to a consistent size\n",
    "    transforms.ColorJitter(brightness=0.2, contrast=0.2, saturation=0.2, hue=0.1), #randomly change the colour values of images\n",
    "    transforms.ToTensor(),\n",
    "    transforms.Normalize([0.485, 0.456, 0.406], [0.229, 0.224, 0.225])\n",
    "])\n",
    "\n",
    "class TransformImages(Dataset):\n",
    "    def __init__(self, dataframe, transform=None):\n",
    "        self.dataframe = dataframe\n",
    "        self.transform = transform\n",
    "\n",
    "    def __len__(self):\n",
    "        return len(self.dataframe)\n",
    "\n",
    "    def __getitem__(self, idx):\n",
    "        path = self.dataframe.iloc[idx]['image']\n",
    "        label = self.dataframe.iloc[idx]['phenology']\n",
    "        image = Image.open(path).convert(\"RGB\") #load the image from the folder\n",
    "        if self.transform:\n",
    "            image = self.transform(image) #make the transformations\n",
    "\n",
    "        label = torch.tensor(label, dtype=torch.long)\n",
    "        \n",
    "        return image, label\n",
    "\n",
    "dataset = TransformImages(dataframe=processedDF, transform=transform)\n",
    "dataloader = DataLoader(dataset, batch_size=32, shuffle=True)"
   ]
  },
  {
   "cell_type": "markdown",
   "metadata": {},
   "source": [
    "__Setting the device used for training__"
   ]
  },
  {
   "cell_type": "code",
   "execution_count": 38,
   "metadata": {},
   "outputs": [],
   "source": [
    "device = torch.device('cuda' if torch.cuda.is_available() else 'cpu') #use the cpu if a gpu is not found"
   ]
  },
  {
   "cell_type": "markdown",
   "metadata": {},
   "source": [
    "__Class definition for model structure and architecture__"
   ]
  },
  {
   "cell_type": "code",
   "execution_count": 39,
   "metadata": {},
   "outputs": [],
   "source": [
    "class SingleLabelCNN(nn.Module):\n",
    "    def __init__(self, num_classes): #number of possible labels\n",
    "        super(SingleLabelCNN, self).__init__()\n",
    "        self.base_model = models.resnet18(pretrained=True) #using a base pretrained model called resnet18\n",
    "        self.base_model.fc = nn.Linear(self.base_model.fc.in_features, num_classes)\n",
    "\n",
    "    def forward(self, x):\n",
    "        x = self.base_model(x)\n",
    "        return nn.functional.log_softmax(x, dim=1)  # softmax is used for single label models\n"
   ]
  },
  {
   "cell_type": "code",
   "execution_count": 40,
   "metadata": {},
   "outputs": [
    {
     "name": "stderr",
     "output_type": "stream",
     "text": [
      "c:\\Users\\micha\\OneDrive\\Documents\\GitHub\\AloeFeroxAlgorithm\\.venv\\Lib\\site-packages\\torchvision\\models\\_utils.py:208: UserWarning: The parameter 'pretrained' is deprecated since 0.13 and may be removed in the future, please use 'weights' instead.\n",
      "  warnings.warn(\n",
      "c:\\Users\\micha\\OneDrive\\Documents\\GitHub\\AloeFeroxAlgorithm\\.venv\\Lib\\site-packages\\torchvision\\models\\_utils.py:223: UserWarning: Arguments other than a weight enum or `None` for 'weights' are deprecated since 0.13 and may be removed in the future. The current behavior is equivalent to passing `weights=ResNet18_Weights.IMAGENET1K_V1`. You can also use `weights=ResNet18_Weights.DEFAULT` to get the most up-to-date weights.\n",
      "  warnings.warn(msg)\n"
     ]
    }
   ],
   "source": [
    "num_classes = processedDF[\"phenology\"].nunique()  # Number of unique classes in the processedDF\n",
    "model = SingleLabelCNN(num_classes).to(device)"
   ]
  },
  {
   "cell_type": "markdown",
   "metadata": {},
   "source": [
    "__Defining loss, optimizer, and scheduler__"
   ]
  },
  {
   "cell_type": "code",
   "execution_count": 41,
   "metadata": {},
   "outputs": [],
   "source": [
    "criterion = nn.CrossEntropyLoss()  # Cross-entropy used for single-label classification with exclusive classes to calculate loss\n",
    "optimizer = optim.Adam(model.parameters(), lr=0.001) #updates model parameters during training to prevent loss\n",
    "scheduler = torch.optim.lr_scheduler.StepLR(optimizer, step_size=10, gamma=0.1) #used to decrease the learning rate after 10 epochs"
   ]
  },
  {
   "cell_type": "markdown",
   "metadata": {},
   "source": [
    "__Model training loop__"
   ]
  },
  {
   "cell_type": "code",
   "execution_count": 42,
   "metadata": {},
   "outputs": [
    {
     "name": "stdout",
     "output_type": "stream",
     "text": [
      "Epoch [1/27], Loss: 1.4413\n",
      "Epoch [2/27], Loss: 1.1466\n",
      "Epoch [3/27], Loss: 1.1595\n",
      "Epoch [4/27], Loss: 1.0592\n",
      "Epoch [5/27], Loss: 1.0517\n",
      "Epoch [6/27], Loss: 0.9808\n",
      "Epoch [7/27], Loss: 0.9359\n",
      "Epoch [8/27], Loss: 0.9004\n",
      "Epoch [9/27], Loss: 0.8063\n",
      "Epoch [10/27], Loss: 0.7567\n",
      "Epoch [11/27], Loss: 0.6470\n",
      "Epoch [12/27], Loss: 0.5971\n",
      "Epoch [13/27], Loss: 0.6224\n",
      "Epoch [14/27], Loss: 0.5754\n",
      "Epoch [15/27], Loss: 0.5240\n",
      "Epoch [16/27], Loss: 0.5311\n",
      "Epoch [17/27], Loss: 0.5310\n",
      "Epoch [18/27], Loss: 0.4621\n",
      "Epoch [19/27], Loss: 0.4394\n",
      "Epoch [20/27], Loss: 0.4429\n",
      "Epoch [21/27], Loss: 0.4004\n",
      "Epoch [22/27], Loss: 0.3670\n",
      "Epoch [23/27], Loss: 0.3651\n",
      "Epoch [24/27], Loss: 0.3697\n",
      "Epoch [25/27], Loss: 0.3806\n",
      "Epoch [26/27], Loss: 0.3657\n",
      "Epoch [27/27], Loss: 0.3618\n"
     ]
    }
   ],
   "source": [
    "epochs = 27 #amount of times the model will train over the data\n",
    "for epoch in range(epochs):\n",
    "    model.train()\n",
    "    running_loss = 0.0\n",
    "    \n",
    "    for image, label in dataloader:\n",
    "        image = image.to(device)\n",
    "        label = label.to(device)\n",
    "        \n",
    "        optimizer.zero_grad() #resets the image gradients\n",
    "        outputs = model(image)\n",
    "        loss = criterion(outputs, label) #calculates the loss value\n",
    "        \n",
    "        loss.backward()\n",
    "        optimizer.step() #updates parameters\n",
    "        \n",
    "        running_loss += loss.item()\n",
    "    \n",
    "    scheduler.step() #changes the learning rate after every 10 epochs\n",
    "    print(f\"Epoch [{epoch+1}/{epochs}], Loss: {running_loss/len(dataloader):.4f}\")"
   ]
  },
  {
   "cell_type": "markdown",
   "metadata": {},
   "source": [
    "__Testing accuracy on the training dataset__"
   ]
  },
  {
   "cell_type": "code",
   "execution_count": 43,
   "metadata": {},
   "outputs": [
    {
     "name": "stdout",
     "output_type": "stream",
     "text": [
      "Accuracy of the model on the train dataset: 87.68%\n"
     ]
    }
   ],
   "source": [
    "model.eval()\n",
    "num_correct = 0\n",
    "total = 0\n",
    "\n",
    "with torch.no_grad():# Turn off image gradients\n",
    "    for images, labels in dataloader:\n",
    "        images = images.to(device) # transfer the data to the available device\n",
    "        labels = labels.to(device)\n",
    "\n",
    "        outputs = model(images)# get the predictions\n",
    "        _, predicted = torch.max(outputs, 1) #holds the predicted class for each image\n",
    "        total += labels.size(0) #counts the amount of predictions in the batch\n",
    "        num_correct += (predicted == labels).sum().item() #counts the amount of correct predictions\n",
    "\n",
    "accuracy = 100 * num_correct / total# Calculate the accuracy score\n",
    "print(f'Accuracy of the model on the train dataset: {accuracy:.2f}%')"
   ]
  },
  {
   "cell_type": "markdown",
   "metadata": {},
   "source": [
    "__Save model to torch file__"
   ]
  },
  {
   "cell_type": "code",
   "execution_count": 44,
   "metadata": {},
   "outputs": [],
   "source": [
    "torch.save(model, 'aloe_model2.pth')"
   ]
  },
  {
   "cell_type": "markdown",
   "metadata": {},
   "source": [
    "__Load model from torch file__"
   ]
  },
  {
   "cell_type": "code",
   "execution_count": 45,
   "metadata": {},
   "outputs": [
    {
     "name": "stderr",
     "output_type": "stream",
     "text": [
      "C:\\Users\\micha\\AppData\\Local\\Temp\\ipykernel_7200\\604020564.py:1: FutureWarning: You are using `torch.load` with `weights_only=False` (the current default value), which uses the default pickle module implicitly. It is possible to construct malicious pickle data which will execute arbitrary code during unpickling (See https://github.com/pytorch/pytorch/blob/main/SECURITY.md#untrusted-models for more details). In a future release, the default value for `weights_only` will be flipped to `True`. This limits the functions that could be executed during unpickling. Arbitrary objects will no longer be allowed to be loaded via this mode unless they are explicitly allowlisted by the user via `torch.serialization.add_safe_globals`. We recommend you start setting `weights_only=True` for any use case where you don't have full control of the loaded file. Please open an issue on GitHub for any issues related to this experimental feature.\n",
      "  loaded_model = torch.load('aloe_model2.pth')\n"
     ]
    },
    {
     "data": {
      "text/plain": [
       "SingleLabelCNN(\n",
       "  (base_model): ResNet(\n",
       "    (conv1): Conv2d(3, 64, kernel_size=(7, 7), stride=(2, 2), padding=(3, 3), bias=False)\n",
       "    (bn1): BatchNorm2d(64, eps=1e-05, momentum=0.1, affine=True, track_running_stats=True)\n",
       "    (relu): ReLU(inplace=True)\n",
       "    (maxpool): MaxPool2d(kernel_size=3, stride=2, padding=1, dilation=1, ceil_mode=False)\n",
       "    (layer1): Sequential(\n",
       "      (0): BasicBlock(\n",
       "        (conv1): Conv2d(64, 64, kernel_size=(3, 3), stride=(1, 1), padding=(1, 1), bias=False)\n",
       "        (bn1): BatchNorm2d(64, eps=1e-05, momentum=0.1, affine=True, track_running_stats=True)\n",
       "        (relu): ReLU(inplace=True)\n",
       "        (conv2): Conv2d(64, 64, kernel_size=(3, 3), stride=(1, 1), padding=(1, 1), bias=False)\n",
       "        (bn2): BatchNorm2d(64, eps=1e-05, momentum=0.1, affine=True, track_running_stats=True)\n",
       "      )\n",
       "      (1): BasicBlock(\n",
       "        (conv1): Conv2d(64, 64, kernel_size=(3, 3), stride=(1, 1), padding=(1, 1), bias=False)\n",
       "        (bn1): BatchNorm2d(64, eps=1e-05, momentum=0.1, affine=True, track_running_stats=True)\n",
       "        (relu): ReLU(inplace=True)\n",
       "        (conv2): Conv2d(64, 64, kernel_size=(3, 3), stride=(1, 1), padding=(1, 1), bias=False)\n",
       "        (bn2): BatchNorm2d(64, eps=1e-05, momentum=0.1, affine=True, track_running_stats=True)\n",
       "      )\n",
       "    )\n",
       "    (layer2): Sequential(\n",
       "      (0): BasicBlock(\n",
       "        (conv1): Conv2d(64, 128, kernel_size=(3, 3), stride=(2, 2), padding=(1, 1), bias=False)\n",
       "        (bn1): BatchNorm2d(128, eps=1e-05, momentum=0.1, affine=True, track_running_stats=True)\n",
       "        (relu): ReLU(inplace=True)\n",
       "        (conv2): Conv2d(128, 128, kernel_size=(3, 3), stride=(1, 1), padding=(1, 1), bias=False)\n",
       "        (bn2): BatchNorm2d(128, eps=1e-05, momentum=0.1, affine=True, track_running_stats=True)\n",
       "        (downsample): Sequential(\n",
       "          (0): Conv2d(64, 128, kernel_size=(1, 1), stride=(2, 2), bias=False)\n",
       "          (1): BatchNorm2d(128, eps=1e-05, momentum=0.1, affine=True, track_running_stats=True)\n",
       "        )\n",
       "      )\n",
       "      (1): BasicBlock(\n",
       "        (conv1): Conv2d(128, 128, kernel_size=(3, 3), stride=(1, 1), padding=(1, 1), bias=False)\n",
       "        (bn1): BatchNorm2d(128, eps=1e-05, momentum=0.1, affine=True, track_running_stats=True)\n",
       "        (relu): ReLU(inplace=True)\n",
       "        (conv2): Conv2d(128, 128, kernel_size=(3, 3), stride=(1, 1), padding=(1, 1), bias=False)\n",
       "        (bn2): BatchNorm2d(128, eps=1e-05, momentum=0.1, affine=True, track_running_stats=True)\n",
       "      )\n",
       "    )\n",
       "    (layer3): Sequential(\n",
       "      (0): BasicBlock(\n",
       "        (conv1): Conv2d(128, 256, kernel_size=(3, 3), stride=(2, 2), padding=(1, 1), bias=False)\n",
       "        (bn1): BatchNorm2d(256, eps=1e-05, momentum=0.1, affine=True, track_running_stats=True)\n",
       "        (relu): ReLU(inplace=True)\n",
       "        (conv2): Conv2d(256, 256, kernel_size=(3, 3), stride=(1, 1), padding=(1, 1), bias=False)\n",
       "        (bn2): BatchNorm2d(256, eps=1e-05, momentum=0.1, affine=True, track_running_stats=True)\n",
       "        (downsample): Sequential(\n",
       "          (0): Conv2d(128, 256, kernel_size=(1, 1), stride=(2, 2), bias=False)\n",
       "          (1): BatchNorm2d(256, eps=1e-05, momentum=0.1, affine=True, track_running_stats=True)\n",
       "        )\n",
       "      )\n",
       "      (1): BasicBlock(\n",
       "        (conv1): Conv2d(256, 256, kernel_size=(3, 3), stride=(1, 1), padding=(1, 1), bias=False)\n",
       "        (bn1): BatchNorm2d(256, eps=1e-05, momentum=0.1, affine=True, track_running_stats=True)\n",
       "        (relu): ReLU(inplace=True)\n",
       "        (conv2): Conv2d(256, 256, kernel_size=(3, 3), stride=(1, 1), padding=(1, 1), bias=False)\n",
       "        (bn2): BatchNorm2d(256, eps=1e-05, momentum=0.1, affine=True, track_running_stats=True)\n",
       "      )\n",
       "    )\n",
       "    (layer4): Sequential(\n",
       "      (0): BasicBlock(\n",
       "        (conv1): Conv2d(256, 512, kernel_size=(3, 3), stride=(2, 2), padding=(1, 1), bias=False)\n",
       "        (bn1): BatchNorm2d(512, eps=1e-05, momentum=0.1, affine=True, track_running_stats=True)\n",
       "        (relu): ReLU(inplace=True)\n",
       "        (conv2): Conv2d(512, 512, kernel_size=(3, 3), stride=(1, 1), padding=(1, 1), bias=False)\n",
       "        (bn2): BatchNorm2d(512, eps=1e-05, momentum=0.1, affine=True, track_running_stats=True)\n",
       "        (downsample): Sequential(\n",
       "          (0): Conv2d(256, 512, kernel_size=(1, 1), stride=(2, 2), bias=False)\n",
       "          (1): BatchNorm2d(512, eps=1e-05, momentum=0.1, affine=True, track_running_stats=True)\n",
       "        )\n",
       "      )\n",
       "      (1): BasicBlock(\n",
       "        (conv1): Conv2d(512, 512, kernel_size=(3, 3), stride=(1, 1), padding=(1, 1), bias=False)\n",
       "        (bn1): BatchNorm2d(512, eps=1e-05, momentum=0.1, affine=True, track_running_stats=True)\n",
       "        (relu): ReLU(inplace=True)\n",
       "        (conv2): Conv2d(512, 512, kernel_size=(3, 3), stride=(1, 1), padding=(1, 1), bias=False)\n",
       "        (bn2): BatchNorm2d(512, eps=1e-05, momentum=0.1, affine=True, track_running_stats=True)\n",
       "      )\n",
       "    )\n",
       "    (avgpool): AdaptiveAvgPool2d(output_size=(1, 1))\n",
       "    (fc): Linear(in_features=512, out_features=8, bias=True)\n",
       "  )\n",
       ")"
      ]
     },
     "execution_count": 45,
     "metadata": {},
     "output_type": "execute_result"
    }
   ],
   "source": [
    "loaded_model = torch.load('aloe_model2.pth')\n",
    "loaded_model.eval()"
   ]
  },
  {
   "cell_type": "markdown",
   "metadata": {},
   "source": [
    "__Preprocessing function for images__"
   ]
  },
  {
   "cell_type": "code",
   "execution_count": 46,
   "metadata": {},
   "outputs": [],
   "source": [
    "def preprocess_image(image_path, target_size=(224, 224)):\n",
    "    transform = transforms.Compose([\n",
    "        transforms.Resize(target_size), #converts to standard image size\n",
    "        transforms.ToTensor(),  #Converts the image to a Pytorch tensor\n",
    "        transforms.Normalize([0.485, 0.456, 0.406], [0.229, 0.224, 0.225])\n",
    "    ])\n",
    "    image = Image.open(image_path)\n",
    "    tensor = transform(image).unsqueeze(0) #indicates that the image is a batch size of 1\n",
    "    return tensor\n"
   ]
  },
  {
   "cell_type": "markdown",
   "metadata": {},
   "source": [
    "__Predicting on a single image__"
   ]
  },
  {
   "cell_type": "code",
   "execution_count": 47,
   "metadata": {},
   "outputs": [
    {
     "name": "stdout",
     "output_type": "stream",
     "text": [
      "Predicted class: 0\n"
     ]
    }
   ],
   "source": [
    "image_path = 'Test/390.png' #image file path\n",
    "tensor_image = preprocess_image(image_path, target_size=(224, 224)) #process the image before prediction\n",
    "\n",
    "with torch.no_grad():  # Disable the gradient tracking for faster prediction\n",
    "    output = loaded_model(tensor_image) #load the image into the trained model \n",
    "    prediction = torch.argmax(output, dim=1).item() #predict the class\n",
    "\n",
    "print(f'Predicted class: {prediction}')\n"
   ]
  },
  {
   "cell_type": "markdown",
   "metadata": {},
   "source": [
    "__Accuracy score of the test dataset__"
   ]
  },
  {
   "cell_type": "code",
   "execution_count": 70,
   "metadata": {},
   "outputs": [
    {
     "name": "stdout",
     "output_type": "stream",
     "text": [
      "Accuracy: 67.36%\n"
     ]
    }
   ],
   "source": [
    "correct_outputs = 0\n",
    "\n",
    "for _, row in lastTest_set.iterrows():\n",
    "    img_tensor = preprocess_image(row['image']) #process the image\n",
    "    \n",
    "    with torch.no_grad():  # remove the gradients\n",
    "        output = loaded_model(img_tensor) #load image into model\n",
    "        classification = torch.argmax(output, dim=1).item() #predict the class\n",
    "\n",
    "    if classification == row['phenology']: #check if the prediction is the same as the true label\n",
    "        correct_outputs += 1 #increase the counter by 1\n",
    "\n",
    "accuracy = correct_outputs / len(lastTest_set) #accuracy score calculation\n",
    "print(f'Accuracy: {accuracy * 100:.2f}%')\n"
   ]
  }
 ],
 "metadata": {
  "kernelspec": {
   "display_name": ".venv",
   "language": "python",
   "name": "python3"
  },
  "language_info": {
   "codemirror_mode": {
    "name": "ipython",
    "version": 3
   },
   "file_extension": ".py",
   "mimetype": "text/x-python",
   "name": "python",
   "nbconvert_exporter": "python",
   "pygments_lexer": "ipython3",
   "version": "3.11.9"
  }
 },
 "nbformat": 4,
 "nbformat_minor": 2
}
